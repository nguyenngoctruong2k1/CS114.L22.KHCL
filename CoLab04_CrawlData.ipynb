{
  "nbformat": 4,
  "nbformat_minor": 0,
  "metadata": {
    "colab": {
      "name": "CoLab04_CrawlData",
      "provenance": [],
      "collapsed_sections": [
        "xJXDx5apkS4z",
        "6XE6DEPQaq5O",
        "Ui999VG_gRso",
        "8Z9pYq_3lYL8",
        "pBNJOlpQoMOs",
        "o4P4iN5kie7B",
        "D1jyM4IGBxyq",
        "3DDId618B6Sv",
        "jj9U4gCupfxD",
        "gi54frnO0eIj",
        "4tku8kXx0eJY",
        "-vHF77ys_UtS"
      ],
      "authorship_tag": "ABX9TyOOmYbEhqqLgnlKf/qemGQw",
      "include_colab_link": true
    },
    "kernelspec": {
      "display_name": "Python 3",
      "name": "python3"
    },
    "language_info": {
      "name": "python"
    }
  },
  "cells": [
    {
      "cell_type": "markdown",
      "metadata": {
        "id": "view-in-github",
        "colab_type": "text"
      },
      "source": [
        "<a href=\"https://colab.research.google.com/github/nguyenngoctruong2k1/CS114.L22.KHCL/blob/main/CoLab04_CrawlData.ipynb\" target=\"_parent\"><img src=\"https://colab.research.google.com/assets/colab-badge.svg\" alt=\"Open In Colab\"/></a>"
      ]
    },
    {
      "cell_type": "markdown",
      "metadata": {
        "id": "xJXDx5apkS4z"
      },
      "source": [
        "# A. Các trang web châm biếm:\n",
        "## 1. [The Onion](#scrollTo=6XE6DEPQaq5O)\n",
        "## 2. [The Betoota Advocate](#scrollTo=o4P4iN5kie7B)\n",
        "## 3. [World News Daily Report](#scrollTo=jj9U4gCupfxD)\n",
        "## 4. [NewsBiscuit](#scrollTo=CJ_CVvWj1sIR&line=4&uniqifier=1)\n"
      ]
    },
    {
      "cell_type": "markdown",
      "metadata": {
        "id": "6XE6DEPQaq5O"
      },
      "source": [
        "## 1. [The Onion](https://www.theonion.com/)\n",
        "* Ý tưởng:\n",
        "- Kiểm tra sitemap thì web này có, sitemap phát triển trên ý tưởng thời gian\n",
        "- Sử dụng sitemap https://www.theonion.com/sitemap/2019/january/8\n",
        "- Tìm từ tháng 1 tháng 6 năm 2018 ->2021"
      ]
    },
    {
      "cell_type": "markdown",
      "metadata": {
        "id": "Ui999VG_gRso"
      },
      "source": [
        "### a. Xây dựng link để request"
      ]
    },
    {
      "cell_type": "code",
      "metadata": {
        "id": "NHpHZeNDieUK"
      },
      "source": [
        "months_ = [\"january\",\"february\",\"march\",\"april\",\"may\",\"june\",\"july\",\"august\",\"september\",\"october\",\"november\",\"december\"]"
      ],
      "execution_count": null,
      "outputs": []
    },
    {
      "cell_type": "code",
      "metadata": {
        "colab": {
          "base_uri": "https://localhost:8080/"
        },
        "id": "0x0Kd8nnhsiS",
        "outputId": "d6a9433f-d558-4f4e-9ca0-64286b50f401"
      },
      "source": [
        "FullLink = []\n",
        "for year in range(2018,2022):\n",
        "  months = months_\n",
        "  if year == 2018:\n",
        "    months = months_[5:-1]\n",
        "  if year == 2021:\n",
        "    months = months_[0:5]\n",
        "  for month in months:\n",
        "    for day in range(1,32):\n",
        "      link = \"https://www.theonion.com/sitemap/\" + str(year) +\"/\" + month + \"/\" +str(day)\n",
        "      FullLink.append(link)\n",
        "print(*FullLink[0:10],sep=\"\\n\")\n",
        "print(*FullLink[-10:-1],sep=\"\\n\")"
      ],
      "execution_count": null,
      "outputs": [
        {
          "output_type": "stream",
          "text": [
            "https://www.theonion.com/sitemap/2018/june/1\n",
            "https://www.theonion.com/sitemap/2018/june/2\n",
            "https://www.theonion.com/sitemap/2018/june/3\n",
            "https://www.theonion.com/sitemap/2018/june/4\n",
            "https://www.theonion.com/sitemap/2018/june/5\n",
            "https://www.theonion.com/sitemap/2018/june/6\n",
            "https://www.theonion.com/sitemap/2018/june/7\n",
            "https://www.theonion.com/sitemap/2018/june/8\n",
            "https://www.theonion.com/sitemap/2018/june/9\n",
            "https://www.theonion.com/sitemap/2018/june/10\n",
            "https://www.theonion.com/sitemap/2021/may/22\n",
            "https://www.theonion.com/sitemap/2021/may/23\n",
            "https://www.theonion.com/sitemap/2021/may/24\n",
            "https://www.theonion.com/sitemap/2021/may/25\n",
            "https://www.theonion.com/sitemap/2021/may/26\n",
            "https://www.theonion.com/sitemap/2021/may/27\n",
            "https://www.theonion.com/sitemap/2021/may/28\n",
            "https://www.theonion.com/sitemap/2021/may/29\n",
            "https://www.theonion.com/sitemap/2021/may/30\n"
          ],
          "name": "stdout"
        }
      ]
    },
    {
      "cell_type": "markdown",
      "metadata": {
        "id": "8Z9pYq_3lYL8"
      },
      "source": [
        "### b) Thử nghiệm 1 link"
      ]
    },
    {
      "cell_type": "code",
      "metadata": {
        "colab": {
          "base_uri": "https://localhost:8080/"
        },
        "id": "fEuIW9CClcqo",
        "outputId": "1eda5c15-c824-4c15-aea3-7630458622a6"
      },
      "source": [
        "# Thử tìm thử trong một Category\n",
        "response = requests.get(\"https://www.theonion.com/sitemap/2021/may/26\")\n",
        "soup = BeautifulSoup(response.content, \"html.parser\")\n",
        "# Check và thấy rằng mỗi paper đều nằm trong một thẻ dev và có chung class:\"item-details\"\n",
        "papers = soup.findAll('h4', class_='sc-1w8kdgf-1 bwRmiu js_sitemap-article')\n",
        "for paper in papers:\n",
        "  print(paper)\n",
        "  # # Kiểm tra và thấy link của bài báo nằm ở trong thẻ a thuộc tính href\n",
        "  # link = paper.find('a').attrs[\"href\"]\n",
        "  # # Kiểm tra và thấy tiêu đề của bài báo nằm trong thẻ a thuộc tính title\n",
        "  # title = paper.find('a').attrs[\"title\"]\n",
        "  # # Loại bỏ link ko thuộc chủ đè\n",
        "  # time = paper.find('time').attrs[\"datetime\"]\n",
        "  # if curentcategory[40:] not in link:\n",
        "  #   break\n",
        "  # # Thử in ra màn hình\n",
        "  # print(time[:10])\n",
        "  # print(title + \",\"+link+\",1\")"
      ],
      "execution_count": null,
      "outputs": [
        {
          "output_type": "stream",
          "text": [
            "<h4 class=\"sc-1w8kdgf-1 bwRmiu js_sitemap-article\"><a href=\"https://www.theonion.com/5-things-to-know-about-belarus-leader-diverting-a-ryan-1846976357\">5 Things To Know About Belarus’ Leader Diverting A Ryanair Flight</a></h4>\n",
            "<h4 class=\"sc-1w8kdgf-1 bwRmiu js_sitemap-article\"><a href=\"https://www.theonion.com/ask-the-onion-how-to-go-zero-waste-1846964890\">Ask ‘The Onion’: How To Go Zero Waste</a></h4>\n",
            "<h4 class=\"sc-1w8kdgf-1 bwRmiu js_sitemap-article\"><a href=\"https://www.theonion.com/no-way-to-prevent-this-says-only-nation-where-this-r-1846975039\">‘No Way To Prevent This,’ Says Only Nation Where This Regularly Happens</a></h4>\n",
            "<h4 class=\"sc-1w8kdgf-1 bwRmiu js_sitemap-article\"><a href=\"https://www.theonion.com/biden-putin-to-hold-summit-in-geneva-1846974763\">Biden, Putin To Hold Summit In Geneva</a></h4>\n",
            "<h4 class=\"sc-1w8kdgf-1 bwRmiu js_sitemap-article\"><a href=\"https://www.theonion.com/therapy-myth-vs-fact-1846968446\">Therapy: Myth Vs. Fact</a></h4>\n",
            "<h4 class=\"sc-1w8kdgf-1 bwRmiu js_sitemap-article\"><a href=\"https://www.theonion.com/man-with-family-tattooed-across-chest-forbidden-to-co-1846965699\">Man With ‘Family’ Tattooed Across Chest Forbidden To Come Within 500 Feet Of His Wife</a></h4>\n",
            "<h4 class=\"sc-1w8kdgf-1 bwRmiu js_sitemap-article\"><a href=\"https://www.theonion.com/surgeon-totally-blanks-on-what-he-cut-open-patient-for-1846965502\">Surgeon Totally Blanks On What He Cut Open Patient For</a></h4>\n",
            "<h4 class=\"sc-1w8kdgf-1 bwRmiu js_sitemap-article\"><a href=\"https://www.theonion.com/unexpected-crunch-prompts-woman-to-take-roll-call-of-te-1846937222\">Unexpected Crunch Prompts Woman To Take Roll Call Of Teeth With Tip Of Tongue</a></h4>\n",
            "<h4 class=\"sc-1w8kdgf-1 bwRmiu js_sitemap-article\"><a href=\"https://www.theonion.com/critics-warn-15-wage-will-force-mcdonald-s-to-replace-1846967163\">Critics Warn $15 Wage Will Force McDonald’s To Replace Burger Patties With Robots</a></h4>\n"
          ],
          "name": "stdout"
        }
      ]
    },
    {
      "cell_type": "markdown",
      "metadata": {
        "id": "ZKIf3xeinWHR"
      },
      "source": [
        "* nhận xét: dữ liệu cần lấy nằm trong thẻ a, lấy thôi"
      ]
    },
    {
      "cell_type": "code",
      "metadata": {
        "colab": {
          "base_uri": "https://localhost:8080/"
        },
        "id": "HLDzyEkwlXk7",
        "outputId": "537621bf-dd62-4375-f395-657a418b1200"
      },
      "source": [
        "response = requests.get(\"https://www.theonion.com/sitemap/2021/may/26\")\n",
        "soup = BeautifulSoup(response.content, \"html.parser\")\n",
        "# Check và thấy rằng mỗi paper đều nằm trong một thẻ dev và có chung class:\"item-details\"\n",
        "papers = soup.findAll('h4', class_='sc-1w8kdgf-1 bwRmiu js_sitemap-article')\n",
        "for paper in papers:\n",
        "  link = paper.find('a').attrs[\"href\"]\n",
        "  title = paper.find('a').text.lower()\n",
        "  print(link,title,1 )"
      ],
      "execution_count": null,
      "outputs": [
        {
          "output_type": "stream",
          "text": [
            "https://www.theonion.com/5-things-to-know-about-belarus-leader-diverting-a-ryan-1846976357 5 things to know about belarus’ leader diverting a ryanair flight 1\n",
            "https://www.theonion.com/ask-the-onion-how-to-go-zero-waste-1846964890 ask ‘the onion’: how to go zero waste 1\n",
            "https://www.theonion.com/no-way-to-prevent-this-says-only-nation-where-this-r-1846975039 ‘no way to prevent this,’ says only nation where this regularly happens 1\n",
            "https://www.theonion.com/biden-putin-to-hold-summit-in-geneva-1846974763 biden, putin to hold summit in geneva 1\n",
            "https://www.theonion.com/therapy-myth-vs-fact-1846968446 therapy: myth vs. fact 1\n",
            "https://www.theonion.com/man-with-family-tattooed-across-chest-forbidden-to-co-1846965699 man with ‘family’ tattooed across chest forbidden to come within 500 feet of his wife 1\n",
            "https://www.theonion.com/surgeon-totally-blanks-on-what-he-cut-open-patient-for-1846965502 surgeon totally blanks on what he cut open patient for 1\n",
            "https://www.theonion.com/unexpected-crunch-prompts-woman-to-take-roll-call-of-te-1846937222 unexpected crunch prompts woman to take roll call of teeth with tip of tongue 1\n",
            "https://www.theonion.com/critics-warn-15-wage-will-force-mcdonald-s-to-replace-1846967163 critics warn $15 wage will force mcdonald’s to replace burger patties with robots 1\n"
          ],
          "name": "stdout"
        }
      ]
    },
    {
      "cell_type": "markdown",
      "metadata": {
        "id": "pBNJOlpQoMOs"
      },
      "source": [
        "### c) Tìm trên cả tập link"
      ]
    },
    {
      "cell_type": "code",
      "metadata": {
        "id": "_p1Wv4nsoY70"
      },
      "source": [
        "article_link = []\n",
        "headline = []\n",
        "for linkSiteMap in FullLink:\n",
        "  response = requests.get(linkSiteMap)\n",
        "  soup = BeautifulSoup(response.content, \"html.parser\")\n",
        "  # Check và thấy rằng mỗi paper đều nằm trong một thẻ dev và có chung class:\"item-details\"\n",
        "  papers = soup.findAll('h4', class_='sc-1w8kdgf-1 bwRmiu js_sitemap-article')\n",
        "  for paper in papers:\n",
        "    link = paper.find('a').attrs[\"href\"]\n",
        "    title = paper.find('a').text.lower()\n",
        "    article_link.append(link)\n",
        "    headline.append(title)"
      ],
      "execution_count": null,
      "outputs": []
    },
    {
      "cell_type": "code",
      "metadata": {
        "colab": {
          "base_uri": "https://localhost:8080/"
        },
        "id": "ZORRWm2FqgCN",
        "outputId": "e2243aba-3dc5-450a-d32c-c948ff07793d"
      },
      "source": [
        "import pandas as pd\n",
        "FullData1 = pd.DataFrame(columns= ['article_link', 'headline', 'is_sarcastic'])\n",
        "FullData1['article_link'] = article_link\n",
        "FullData1['headline'] = headline\n",
        "FullData1['is_sarcastic'] = 1\n",
        "FullData1"
      ],
      "execution_count": null,
      "outputs": [
        {
          "output_type": "execute_result",
          "data": {
            "text/html": [
              "<div>\n",
              "<style scoped>\n",
              "    .dataframe tbody tr th:only-of-type {\n",
              "        vertical-align: middle;\n",
              "    }\n",
              "\n",
              "    .dataframe tbody tr th {\n",
              "        vertical-align: top;\n",
              "    }\n",
              "\n",
              "    .dataframe thead th {\n",
              "        text-align: right;\n",
              "    }\n",
              "</style>\n",
              "<table border=\"1\" class=\"dataframe\">\n",
              "  <thead>\n",
              "    <tr style=\"text-align: right;\">\n",
              "      <th></th>\n",
              "      <th>article_link</th>\n",
              "      <th>headline</th>\n",
              "      <th>is_sarcastic</th>\n",
              "    </tr>\n",
              "  </thead>\n",
              "  <tbody>\n",
              "    <tr>\n",
              "      <th>0</th>\n",
              "      <td>https://www.theonion.com/dying-cat-mercifully-...</td>\n",
              "      <td>dying cat mercifully put down garbage disposal</td>\n",
              "      <td>1</td>\n",
              "    </tr>\n",
              "    <tr>\n",
              "      <th>1</th>\n",
              "      <td>https://www.theonion.com/washed-up-former-spel...</td>\n",
              "      <td>washed-up former spelling bee champion sitting...</td>\n",
              "      <td>1</td>\n",
              "    </tr>\n",
              "    <tr>\n",
              "      <th>2</th>\n",
              "      <td>https://www.theonion.com/trump-boys-construct-...</td>\n",
              "      <td>trump boys construct fake melania for lonely f...</td>\n",
              "      <td>1</td>\n",
              "    </tr>\n",
              "    <tr>\n",
              "      <th>3</th>\n",
              "      <td>https://www.theonion.com/25-000-neti-pots-reca...</td>\n",
              "      <td>25,000 neti pots recalled after defect causes ...</td>\n",
              "      <td>1</td>\n",
              "    </tr>\n",
              "    <tr>\n",
              "      <th>4</th>\n",
              "      <td>https://www.theonion.com/botanic-garden-forced...</td>\n",
              "      <td>botanic garden forced to euthanize rose bush t...</td>\n",
              "      <td>1</td>\n",
              "    </tr>\n",
              "    <tr>\n",
              "      <th>...</th>\n",
              "      <td>...</td>\n",
              "      <td>...</td>\n",
              "      <td>...</td>\n",
              "    </tr>\n",
              "    <tr>\n",
              "      <th>8534</th>\n",
              "      <td>https://www.theonion.com/nation-pauses-to-refl...</td>\n",
              "      <td>nation pauses to reflect on heroic sacrifices ...</td>\n",
              "      <td>1</td>\n",
              "    </tr>\n",
              "    <tr>\n",
              "      <th>8535</th>\n",
              "      <td>https://www.theonion.com/mario-golf-producer-d...</td>\n",
              "      <td>mario golf producer defends choice to use cgi ...</td>\n",
              "      <td>1</td>\n",
              "    </tr>\n",
              "    <tr>\n",
              "      <th>8536</th>\n",
              "      <td>https://www.theonion.com/use-this-checklist-to...</td>\n",
              "      <td>use this checklist to build the ultimate bug-o...</td>\n",
              "      <td>1</td>\n",
              "    </tr>\n",
              "    <tr>\n",
              "      <th>8537</th>\n",
              "      <td>https://www.theonion.com/bob-baffert-once-agai...</td>\n",
              "      <td>bob baffert once again denies doping allegatio...</td>\n",
              "      <td>1</td>\n",
              "    </tr>\n",
              "    <tr>\n",
              "      <th>8538</th>\n",
              "      <td>https://www.theonion.com/university-names-coll...</td>\n",
              "      <td>university names college of fine arts after ch...</td>\n",
              "      <td>1</td>\n",
              "    </tr>\n",
              "  </tbody>\n",
              "</table>\n",
              "<p>8539 rows × 3 columns</p>\n",
              "</div>"
            ],
            "text/plain": [
              "                                           article_link  ... is_sarcastic\n",
              "0     https://www.theonion.com/dying-cat-mercifully-...  ...            1\n",
              "1     https://www.theonion.com/washed-up-former-spel...  ...            1\n",
              "2     https://www.theonion.com/trump-boys-construct-...  ...            1\n",
              "3     https://www.theonion.com/25-000-neti-pots-reca...  ...            1\n",
              "4     https://www.theonion.com/botanic-garden-forced...  ...            1\n",
              "...                                                 ...  ...          ...\n",
              "8534  https://www.theonion.com/nation-pauses-to-refl...  ...            1\n",
              "8535  https://www.theonion.com/mario-golf-producer-d...  ...            1\n",
              "8536  https://www.theonion.com/use-this-checklist-to...  ...            1\n",
              "8537  https://www.theonion.com/bob-baffert-once-agai...  ...            1\n",
              "8538  https://www.theonion.com/university-names-coll...  ...            1\n",
              "\n",
              "[8539 rows x 3 columns]"
            ]
          },
          "metadata": {
            "tags": []
          },
          "execution_count": 56
        }
      ]
    },
    {
      "cell_type": "markdown",
      "metadata": {
        "id": "ZgeD8f5drnDW"
      },
      "source": [
        "### d) Save to .CSV"
      ]
    },
    {
      "cell_type": "code",
      "metadata": {
        "colab": {
          "base_uri": "https://localhost:8080/"
        },
        "id": "t1yIAqB8rnDY",
        "outputId": "85f13835-d5f4-4b84-9c44-28769ae4f89e"
      },
      "source": [
        "from google.colab import drive\n",
        "drive.mount('/content/drive')\n",
        "FullData0.to_csv(r'/content/drive/MyDrive/Colab Notebooks/DATA_ML/TheOnion.csv', index = False, header=False)"
      ],
      "execution_count": null,
      "outputs": [
        {
          "output_type": "stream",
          "text": [
            "Drive already mounted at /content/drive; to attempt to forcibly remount, call drive.mount(\"/content/drive\", force_remount=True).\n"
          ],
          "name": "stdout"
        }
      ]
    },
    {
      "cell_type": "markdown",
      "metadata": {
        "id": "o4P4iN5kie7B"
      },
      "source": [
        "## 2. [The Betoota Advocate](https://www.betootaadvocate.com/)\n",
        "** Ý tưởng:\n",
        "- Bước 1 lấy link của các thể loại [trên thanh menu] có trên web\n",
        "- bước 2 truy cập từng thu mục lấy các bài về\n",
        "\n",
        "** Bài viết tham khảo:\n",
        "[Cùng Python Crawl Dữ Liệu Để Tạo Bài Báo Nhanh](https://codelearn.io/sharing/python-crawl-du-lieu-tao-bai-bao-nhanh?fbclid=IwAR2Y1Dufc9GACkdnvZVZLX8V_qIsHZxFJOt-kAYlSHtx0Si6TpN6gsEzsJ8)\n"
      ]
    },
    {
      "cell_type": "markdown",
      "metadata": {
        "id": "D1jyM4IGBxyq"
      },
      "source": [
        "### Bước 1 lấy link của các thể loại [trên thanh menu] có trên web"
      ]
    },
    {
      "cell_type": "code",
      "metadata": {
        "colab": {
          "base_uri": "https://localhost:8080/"
        },
        "id": "yn-9iUkMlp-D",
        "outputId": "82ebd035-9443-4584-9516-734c3ab30b19"
      },
      "source": [
        "# Import thư viện\n",
        "import requests\n",
        "from bs4 import BeautifulSoup\n",
        "# Load request từ trang chủ tờ báo\n",
        "response = requests.get(\"https://www.betootaadvocate.com/\")\n",
        "# Lấy Source HTML vừa request\n",
        "soup = BeautifulSoup(response.content, \"html.parser\")\n",
        "# Check source HTML thì thấy những \"Thể loại\" nằm trong thẻ li, class = 'menu-item-object-category' ---> Lọc ngay chần chừ gì nữa\n",
        "category = soup.findAll('li', class_='menu-item-object-category')\n",
        "# Mà ta chỉ cần lấy link thôi! Link thì nằm trong thẻ a thuộc tính href ---> Lọc ra \n",
        "CategoryLinks = set(link.find('a').attrs[\"href\"] for link in category)\n",
        "# In thành quả\n",
        "print(*CategoryLinks, sep=\"\\n\")"
      ],
      "execution_count": null,
      "outputs": [
        {
          "output_type": "stream",
          "text": [
            "https://www.betootaadvocate.com/category/entertainment/\n",
            "https://www.betootaadvocate.com/category/sports/\n",
            "https://www.betootaadvocate.com/category/humans-of-betoota/\n",
            "https://www.betootaadvocate.com/category/breaking-news/\n",
            "https://www.betootaadvocate.com/category/advocate-in-focus/\n",
            "https://www.betootaadvocate.com/category/world-news/\n",
            "https://www.betootaadvocate.com/category/uncategorized/\n"
          ],
          "name": "stdout"
        }
      ]
    },
    {
      "cell_type": "markdown",
      "metadata": {
        "id": "dpvycMLFB2Wm"
      },
      "source": [
        "### Bước 2 truy cập từng thu mục lấy các bài về"
      ]
    },
    {
      "cell_type": "markdown",
      "metadata": {
        "id": "3DDId618B6Sv"
      },
      "source": [
        "#### a) Phân tích thử một mục"
      ]
    },
    {
      "cell_type": "code",
      "metadata": {
        "colab": {
          "base_uri": "https://localhost:8080/"
        },
        "id": "XhAOIYvSoNg4",
        "outputId": "198d0b48-c75a-42cf-9e85-fb95faf46bae"
      },
      "source": [
        "# Thử tìm thử trong một Category\n",
        "curentcategory = 'https://www.betootaadvocate.com/category/breaking-news/'\n",
        "response = requests.get(\"https://www.betootaadvocate.com/category/breaking-news/page/16/\")\n",
        "soup = BeautifulSoup(response.content, \"html.parser\")\n",
        "# Check và thấy rằng mỗi paper đều nằm trong một thẻ dev và có chung class:\"item-details\"\n",
        "papers = soup.findAll('div', class_='item-details')\n",
        "\n",
        "for paper in papers:\n",
        "  # Kiểm tra và thấy link của bài báo nằm ở trong thẻ a thuộc tính href\n",
        "  link = paper.find('a').attrs[\"href\"]\n",
        "  # Kiểm tra và thấy tiêu đề của bài báo nằm trong thẻ a thuộc tính title\n",
        "  title = paper.find('a').attrs[\"title\"]\n",
        "  # Loại bỏ link ko thuộc chủ đè\n",
        "  time = paper.find('time').attrs[\"datetime\"]\n",
        "  if curentcategory[40:] not in link:\n",
        "    break\n",
        "  # Thử in ra màn hình\n",
        "  print(time[:10])\n",
        "  print(title + \",\"+link+\",1\")"
      ],
      "execution_count": null,
      "outputs": [
        {
          "output_type": "stream",
          "text": [
            "2020-12-17\n",
            "Nan’s UNO Victory Foiled By Hypercompetitive Adult Grandson Calling Her Out For Not Saying UNO,https://www.betootaadvocate.com/breaking-news/nans-uno-victory-foiled-by-hypercompetitive-adult-grandson-calling-her-out-for-not-saying-uno/,1\n",
            "2020-12-17\n",
            "The Rest Of Australia Tells Sydney’s Northern Beaches To Keep That Fucking Bridge Up,https://www.betootaadvocate.com/breaking-news/australia-tells-sydneys-northern-beaches-to-keep-that-fucking-bridge-up/,1\n",
            "2020-12-15\n",
            "Aussie Film Industry Secures Major Coup With Next Jurassic Park To Be Filmed In Sky News Studio,https://www.betootaadvocate.com/breaking-news/aussie-film-industry-secures-major-coup-with-next-jurassic-park-to-be-filmed-in-sky-news-studio/,1\n",
            "2020-12-15\n",
            "Chinese Trade War Results In Critical Shortage Of Single-Use Power Tools,https://www.betootaadvocate.com/breaking-news/chinese-trade-war-results-in-critical-shortage-of-single-use-power-tools/,1\n",
            "2020-12-14\n",
            "Officeworks Really Doing Their Best To Spoil The Remaining School Holidays,https://www.betootaadvocate.com/breaking-news/officeworks-really-doing-their-best-to-spoil-the-remaining-school-holidays-2/,1\n",
            "2020-12-14\n",
            "“I Don’t Really Burn,” Says Local Moron About To Be Burnt,https://www.betootaadvocate.com/breaking-news/i-dont-really-burn-says-local-moron-about-to-be-burnt/,1\n",
            "2020-12-13\n",
            "Local Bushie Casually Flicks Away Huntsman Spider With His Bare Hand,https://www.betootaadvocate.com/breaking-news/local-bushie-flicks-away-huntsman-spider-with-his-bare-hand/,1\n",
            "2020-12-13\n",
            "Aboriginal Flags At Half Mast After American Country Music Singer Charley Pride Dies Aged 86,https://www.betootaadvocate.com/breaking-news/aboriginal-flags-at-half-mast-after-american-country-music-singer-charley-pride-dies-aged-86/,1\n",
            "2020-12-13\n",
            "Morning Stroll Ruined As Woman Suddenly Becomes Aware She Can’t Separate Toes In Shoes,https://www.betootaadvocate.com/breaking-news/morning-stroll-ruined-as-woman-suddenly-becomes-aware-she-cant-separate-toes-in-shoes/,1\n",
            "2020-12-12\n",
            "Stoner Share House Decides Which Decorations Will Hang In Their Home Until May,https://www.betootaadvocate.com/breaking-news/stoner-share-house-decides-which-decorations-will-hang-in-their-home-until-may/,1\n"
          ],
          "name": "stdout"
        }
      ]
    },
    {
      "cell_type": "markdown",
      "metadata": {
        "id": "iE7WCUr9jR11"
      },
      "source": [
        "#### b) PHÂN TÍCH ĐÃ XONG, GỘP LẠI -> CRAWL CẢ TRANG NÀO"
      ]
    },
    {
      "cell_type": "code",
      "metadata": {
        "id": "x-Qni8XwjvKt"
      },
      "source": [
        "# Thuật toán check thời gian 3 năm trở lại\n",
        "# vì định dạng ngày tháng ở trên theo năm, tháng, ngày \n",
        "def checkTime(time):\n",
        "  now3year = \"2018-06-10\"\n",
        "  return time>=now3year"
      ],
      "execution_count": null,
      "outputs": []
    },
    {
      "cell_type": "code",
      "metadata": {
        "id": "rcNGTJjfjaWb"
      },
      "source": [
        "article_link = []\n",
        "headline = []\n",
        "for categorylink in CategoryLinks:\n",
        "  number = 0\n",
        "  count = 0\n",
        "  while True:\n",
        "    try:\n",
        "      number += 1\n",
        "      curentcategory = categorylink + \"page/\" + str(number) + \"/\";\n",
        "      # Thử tìm thử trong một Category\n",
        "      response = requests.get(curentcategory)\n",
        "      soup = BeautifulSoup(response.content, \"html.parser\")\n",
        "      # Check và thấy rằng mỗi paper đều nằm trong một thẻ dev và có chung class:\"item-details\"\n",
        "      papers = soup.findAll('div', class_='item-details')\n",
        "      # Dừng khi ko trang request ko có bài báo nào\n",
        "      if len(papers) == 0:\n",
        "        break\n",
        "      for paper in papers:\n",
        "        # Kiểm tra và thấy link của bài báo nằm ở trong thẻ a thuộc tính href\n",
        "        link = paper.find('a').attrs[\"href\"]\n",
        "        # Kiểm tra và thấy tiêu đề của bài báo nằm trong thẻ a thuộc tính title\n",
        "        title = paper.find('a').attrs[\"title\"].lower()\n",
        "        # Kiểm tra phải viết 3 năm trở lại đây không\n",
        "        time = paper.find('time').attrs[\"datetime\"]\n",
        "        if not checkTime(time):\n",
        "          break\n",
        "        # Loại bỏ link ko thuộc chủ đè\n",
        "        if (categorylink[40:] not in link) or (link in article_link):\n",
        "          break\n",
        "        # Thử in ra màn hình\n",
        "        article_link.append(link)\n",
        "        headline.append(title)\n",
        "    except:\n",
        "      break"
      ],
      "execution_count": null,
      "outputs": []
    },
    {
      "cell_type": "code",
      "metadata": {
        "id": "btakDM-egHYF"
      },
      "source": [
        "import pandas as pd\n",
        "FullData2 = pd.DataFrame(columns= ['article_link', 'headline', 'is_sarcastic'])\n",
        "FullData2['article_link'] = article_link\n",
        "FullData2['headline'] = headline\n",
        "FullData2['is_sarcastic'] = 1"
      ],
      "execution_count": null,
      "outputs": []
    },
    {
      "cell_type": "markdown",
      "metadata": {
        "id": "5sgxYBih1F19"
      },
      "source": [
        "#### c) Save to .CSV"
      ]
    },
    {
      "cell_type": "code",
      "metadata": {
        "colab": {
          "base_uri": "https://localhost:8080/"
        },
        "id": "ObFJBi_ySu96",
        "outputId": "69415f62-a0f7-4299-c442-82fd99813a89"
      },
      "source": [
        "from google.colab import drive\n",
        "drive.mount('/content/drive')\n",
        "FullData2.to_csv(r'/content/drive/MyDrive/Colab Notebooks/DATA_ML/thebetootaadvocate_com.csv', index = False, header=False)"
      ],
      "execution_count": null,
      "outputs": [
        {
          "output_type": "stream",
          "text": [
            "Drive already mounted at /content/drive; to attempt to forcibly remount, call drive.mount(\"/content/drive\", force_remount=True).\n"
          ],
          "name": "stdout"
        }
      ]
    },
    {
      "cell_type": "markdown",
      "metadata": {
        "id": "jj9U4gCupfxD"
      },
      "source": [
        "## 3. [World News Daily Report](https://worldnewsdailyreport.com/)\n",
        "Kế thừa ý tưởng từ Crawl web [The Betoota Advocate](https://www.betootaadvocate.com/)\n"
      ]
    },
    {
      "cell_type": "markdown",
      "metadata": {
        "id": "gi54frnO0eIj"
      },
      "source": [
        "### Bước 1 lấy link của các thể loại [trên thanh menu] có trên web"
      ]
    },
    {
      "cell_type": "code",
      "metadata": {
        "colab": {
          "base_uri": "https://localhost:8080/"
        },
        "id": "4n_gBJk40eJS",
        "outputId": "d9492dfc-667e-4ccf-8299-7e19182554f4"
      },
      "source": [
        "# Import thư viện\n",
        "import requests\n",
        "from bs4 import BeautifulSoup\n",
        "# Load request từ trang chủ tờ báo\n",
        "response = requests.get(\"https://worldnewsdailyreport.com/\")\n",
        "# Lấy Source HTML vừa request\n",
        "soup = BeautifulSoup(response.content, \"html.parser\")\n",
        "# Check source HTML thì thấy những \"Thể loại\" nằm trong thẻ li, class = 'menu-item-object-category' ---> Lọc ngay chần chừ gì nữa\n",
        "category = soup.findAll('li', class_='menu-item-object-category')\n",
        "# Mà ta chỉ cần lấy link thôi! Link thì nằm trong thẻ a thuộc tính href ---> Lọc ra \n",
        "CategoryLinks = set(link.find('a').attrs[\"href\"] for link in category)\n",
        "# In thành quả\n",
        "print(*CategoryLinks, sep=\"\\n\")"
      ],
      "execution_count": 1,
      "outputs": [
        {
          "output_type": "stream",
          "text": [
            "https://worldnewsdailyreport.com/category/crime-2/\n",
            "https://worldnewsdailyreport.com/category/game/\n",
            "https://worldnewsdailyreport.com/category/society/justice/\n",
            "https://worldnewsdailyreport.com/category/health/disease-health/\n",
            "https://worldnewsdailyreport.com/category/pregnancy/\n",
            "https://worldnewsdailyreport.com/category/industry/\n",
            "https://worldnewsdailyreport.com/category/lawsuit-2/\n",
            "https://worldnewsdailyreport.com/category/olympics/\n",
            "https://worldnewsdailyreport.com/category/food-2/\n",
            "https://worldnewsdailyreport.com/category/politics/\n",
            "https://worldnewsdailyreport.com/category/mental-illness-2/\n",
            "https://worldnewsdailyreport.com/category/controversy/\n",
            "https://worldnewsdailyreport.com/category/celebrities/\n",
            "https://worldnewsdailyreport.com/category/fashion/\n",
            "https://worldnewsdailyreport.com/category/sports/\n",
            "https://worldnewsdailyreport.com/category/people/\n",
            "https://worldnewsdailyreport.com/category/health/\n",
            "https://worldnewsdailyreport.com/category/economy/\n",
            "https://worldnewsdailyreport.com/category/professional-sport/\n",
            "https://worldnewsdailyreport.com/category/science/\n",
            "https://worldnewsdailyreport.com/category/tragedy/\n",
            "https://worldnewsdailyreport.com/category/archeology/\n",
            "https://worldnewsdailyreport.com/category/international-events/\n",
            "https://worldnewsdailyreport.com/category/feminine-hygiene-2/\n",
            "https://worldnewsdailyreport.com/category/history/\n",
            "https://worldnewsdailyreport.com/category/business/\n",
            "https://worldnewsdailyreport.com/category/science/technology/\n",
            "https://worldnewsdailyreport.com/category/tourism/\n",
            "https://worldnewsdailyreport.com/category/accident-2/\n",
            "https://worldnewsdailyreport.com/category/entertainment/\n",
            "https://worldnewsdailyreport.com/category/happiness/\n",
            "https://worldnewsdailyreport.com/category/weird/\n",
            "https://worldnewsdailyreport.com/category/religion/\n",
            "https://worldnewsdailyreport.com/category/ufo-2/\n",
            "https://worldnewsdailyreport.com/category/genetics-2/\n",
            "https://worldnewsdailyreport.com/category/society/\n",
            "https://worldnewsdailyreport.com/category/family/\n",
            "https://worldnewsdailyreport.com/category/terrorism-2/\n",
            "https://worldnewsdailyreport.com/category/science/environment/\n",
            "https://worldnewsdailyreport.com/category/paranormal-2/\n",
            "https://worldnewsdailyreport.com/category/science/paleontology/\n",
            "https://worldnewsdailyreport.com/category/sexuality/\n"
          ],
          "name": "stdout"
        }
      ]
    },
    {
      "cell_type": "markdown",
      "metadata": {
        "id": "4tku8kXx0eJY"
      },
      "source": [
        "### Bước 2 truy cập từng thu mục lấy các bài về"
      ]
    },
    {
      "cell_type": "markdown",
      "metadata": {
        "id": "_PmGDFWi0eJZ"
      },
      "source": [
        "#### a) Phân tích thử một mục"
      ]
    },
    {
      "cell_type": "code",
      "metadata": {
        "colab": {
          "base_uri": "https://localhost:8080/"
        },
        "id": "eU01ZIs90eJb",
        "outputId": "105f15fc-31e1-44a5-edfb-6ac2e18f6989"
      },
      "source": [
        "# Thử tìm thử trong một Category\n",
        "response = requests.get(\"https://worldnewsdailyreport.com/category/people/page/2/\")\n",
        "soup = BeautifulSoup(response.content, \"html.parser\")\n",
        "# Check và thấy rằng mỗi paper đều nằm trong một thẻ dev và có chung class:\"item-details\"\n",
        "papers = soup.findAll('h3', class_='entry-title content-list-title')\n",
        "\n",
        "for paper in papers:\n",
        "  # Kiểm tra và thấy link của bài báo nằm ở trong thẻ a thuộc tính href\n",
        "  link = paper.find('a').attrs[\"href\"]\n",
        "  # Kiểm tra và thấy tiêu đề của bài báo nằm trong thẻ a thuộc tính title\n",
        "  title = paper.find('a').attrs[\"title\"]\n",
        "  # Thử in ra màn hình\n",
        "  print(title + \",\"+link+\",1\")"
      ],
      "execution_count": 2,
      "outputs": [
        {
          "output_type": "stream",
          "text": [
            "San Francisco man requires 176 stitches to anus after boyfriend used jackhammer as sex toy,https://worldnewsdailyreport.com/san-francisco-man-requires-176-stitches-to-anus-after-boyfriend-used-jackhammer-as-sex-toy/,1\n",
            "Burglar sues homeowner after being raped by German shepherds while stuck in house’s pet door,https://worldnewsdailyreport.com/burglar-sues-homeowner-after-being-raped-by-german-shepherds-while-stuck-in-houses-pet-door/,1\n",
            "Man turns himself in to police for killing his inflatable sex doll girlfriend, claims mental illness,https://worldnewsdailyreport.com/man-turns-himself-in-to-police-for-killing-his-inflatable-sex-doll-girlfriend-claims-mental-illness/,1\n",
            "Utah woman arrested for secretly putting penis enlargement drugs in her husband’s food for years,https://worldnewsdailyreport.com/utah-woman-arrested-for-secretly-putting-penis-enlargement-drugs-in-her-husbands-food-for-years/,1\n",
            "California man sues his parents for $1,8M for dressing him up as a girl up to the age of 14,https://worldnewsdailyreport.com/california-man-sues-his-parents-for-18m-for-dressing-him-up-as-a-girl-up-to-the-age-of-14/,1\n",
            "Woman sues USPS for $1,1M in child support after having 6 children from 5 different mailmen,https://worldnewsdailyreport.com/woman-sues-usps-for-11m-in-child-support-after-having-6-children-from-5-different-mailmen/,1\n",
            "New Zealand farmer jailed after sexually transmitting coronavirus to flock of 400 sheep,https://worldnewsdailyreport.com/new-zealand-farmer-jailed-after-sexually-transmitting-coronavirus-to-flock-of-400-sheep/,1\n",
            "Utah family claims 15-year-old son turned gay after 5G cell phone tower was installed near home,https://worldnewsdailyreport.com/utah-family-claims-15-year-old-son-turned-gay-after-5g-cell-phone-tower-was-installed-near-home/,1\n",
            "Two gorillas at San Diego Zoo test positive for COVID-19 after being sexually assaulted by drunk woman,https://worldnewsdailyreport.com/two-gorillas-at-san-diego-zoo-safari-park-test-positive-for-covid-19-after-being-sexually-assaulted-by-drunk-woman/,1\n",
            "Man with sexual fetish about nasal swabs banned from COVID testing after 192 negative tests,https://worldnewsdailyreport.com/man-with-sexual-fetish-about-nasal-swabs-banned-from-covid-testing-after-192-negative-tests/,1\n"
          ],
          "name": "stdout"
        }
      ]
    },
    {
      "cell_type": "markdown",
      "metadata": {
        "id": "a9TUpgn80eJe"
      },
      "source": [
        "#### b) PHÂN TÍCH ĐÃ XONG, GỘP LẠI -> CRAWL CẢ TRANG NÀO"
      ]
    },
    {
      "cell_type": "markdown",
      "metadata": {
        "id": "8JizbPsiMWKk"
      },
      "source": [
        "##### Hàm check thời gian "
      ]
    },
    {
      "cell_type": "code",
      "metadata": {
        "id": "glzUPJ630eJf"
      },
      "source": [
        "# Thuật toán check thời gian 3 năm trở lại\n",
        "# Khác với bài trên, với trang web này thì không hiển thị ngày tháng bên ngoài bản tóm tắt tìm được\n",
        "# mà cũng không thể hiện trên màn hình khi truy cập nhưng lại nằm trong thẻ <meta property=\"article:published_time\" content=\"2015-09-10T20:31:15+00:00\" /> \n",
        "# b1: truy cập vào paper\n",
        "# b2: lấy time\n",
        "def checkTime(linkpaper):\n",
        "  now3year = \"2018-06-10\"\n",
        "  # truy cập paper\n",
        "  response = requests.get(linkpaper)\n",
        "  soup = BeautifulSoup(response.content, \"html.parser\")\n",
        "  # Lấy thẻ meta có chứa thời gian đăng bài\n",
        "  meta = soup.find('meta', attrs={'property': 'article:published_time'})\n",
        "  # lấy nội dung\n",
        "  time = meta.attrs[\"content\"]\n",
        "  # print(time[:10])\n",
        "  time = time[:10]\n",
        "  return time>=now3year"
      ],
      "execution_count": 3,
      "outputs": []
    },
    {
      "cell_type": "markdown",
      "metadata": {
        "id": "e3Le0VXQMlLT"
      },
      "source": [
        "##### Run"
      ]
    },
    {
      "cell_type": "code",
      "metadata": {
        "id": "c_TP9IIs0eJg"
      },
      "source": [
        "article_link = []\n",
        "headline = []\n",
        "for categorylink in CategoryLinks:\n",
        "  number = 0\n",
        "  while True:\n",
        "    try:\n",
        "      number += 1\n",
        "      curentcategory = categorylink + \"page/\" + str(number) + \"/\";\n",
        "      # Thử tìm thử trong một Category\n",
        "      response = requests.get(curentcategory)\n",
        "      soup = BeautifulSoup(response.content, \"html.parser\")\n",
        "      # Check và thấy rằng mỗi paper đều nằm trong một thẻ dev và có chung class:\"item-details\"\n",
        "      papers = soup.findAll('h3', class_='entry-title content-list-title')\n",
        "      # Dừng khi ko trang request ko có bài báo nào\n",
        "      if len(papers) == 0:\n",
        "        break\n",
        "      for paper in papers:\n",
        "        # Kiểm tra và thấy link của bài báo nằm ở trong thẻ a thuộc tính href\n",
        "        link = paper.find('a').attrs[\"href\"]\n",
        "        # Kiểm tra và thấy tiêu đề của bài báo nằm trong thẻ a thuộc tính title\n",
        "        title = paper.find('a').attrs[\"title\"].lower()\n",
        "        # Kiểm tra phải viết 3 năm trở lại đây không\n",
        "        if not checkTime(link):\n",
        "          break\n",
        "        # Loại bỏ link ko thuộc chủ đè\n",
        "        if link in article_link:\n",
        "          break\n",
        "        # Thử in ra màn hình\n",
        "        article_link.append(link)\n",
        "        headline.append(title)\n",
        "    except:\n",
        "      break"
      ],
      "execution_count": 4,
      "outputs": []
    },
    {
      "cell_type": "code",
      "metadata": {
        "colab": {
          "base_uri": "https://localhost:8080/",
          "height": 0
        },
        "id": "ddCo_HNH0eJj",
        "outputId": "efb0c3c5-63ed-4035-b114-07cb4f646549"
      },
      "source": [
        "import pandas as pd\n",
        "FullData3 = pd.DataFrame(columns= ['article_link', 'headline', 'is_sarcastic'])\n",
        "FullData3['article_link'] = article_link\n",
        "FullData3['headline'] = headline\n",
        "FullData3['is_sarcastic'] = 1\n",
        "FullData3"
      ],
      "execution_count": 5,
      "outputs": [
        {
          "output_type": "execute_result",
          "data": {
            "text/html": [
              "<div>\n",
              "<style scoped>\n",
              "    .dataframe tbody tr th:only-of-type {\n",
              "        vertical-align: middle;\n",
              "    }\n",
              "\n",
              "    .dataframe tbody tr th {\n",
              "        vertical-align: top;\n",
              "    }\n",
              "\n",
              "    .dataframe thead th {\n",
              "        text-align: right;\n",
              "    }\n",
              "</style>\n",
              "<table border=\"1\" class=\"dataframe\">\n",
              "  <thead>\n",
              "    <tr style=\"text-align: right;\">\n",
              "      <th></th>\n",
              "      <th>article_link</th>\n",
              "      <th>headline</th>\n",
              "      <th>is_sarcastic</th>\n",
              "    </tr>\n",
              "  </thead>\n",
              "  <tbody>\n",
              "    <tr>\n",
              "      <th>0</th>\n",
              "      <td>https://worldnewsdailyreport.com/woman-runs-ov...</td>\n",
              "      <td>woman runs over husband 17 times with pickup t...</td>\n",
              "      <td>1</td>\n",
              "    </tr>\n",
              "    <tr>\n",
              "      <th>1</th>\n",
              "      <td>https://worldnewsdailyreport.com/police-shut-d...</td>\n",
              "      <td>police shut down christmas mall kiosk after in...</td>\n",
              "      <td>1</td>\n",
              "    </tr>\n",
              "    <tr>\n",
              "      <th>2</th>\n",
              "      <td>https://worldnewsdailyreport.com/convicted-aus...</td>\n",
              "      <td>convicted australian kangaroo rapist arrested ...</td>\n",
              "      <td>1</td>\n",
              "    </tr>\n",
              "    <tr>\n",
              "      <th>3</th>\n",
              "      <td>https://worldnewsdailyreport.com/male-stripper...</td>\n",
              "      <td>male stripper shot 5 times after showing up at...</td>\n",
              "      <td>1</td>\n",
              "    </tr>\n",
              "    <tr>\n",
              "      <th>4</th>\n",
              "      <td>https://worldnewsdailyreport.com/1500-year-old...</td>\n",
              "      <td>1500-year old magical grimoire stolen from ita...</td>\n",
              "      <td>1</td>\n",
              "    </tr>\n",
              "    <tr>\n",
              "      <th>...</th>\n",
              "      <td>...</td>\n",
              "      <td>...</td>\n",
              "      <td>...</td>\n",
              "    </tr>\n",
              "    <tr>\n",
              "      <th>156</th>\n",
              "      <td>https://worldnewsdailyreport.com/florida-teen-...</td>\n",
              "      <td>florida teen stung over 600 times after insert...</td>\n",
              "      <td>1</td>\n",
              "    </tr>\n",
              "    <tr>\n",
              "      <th>157</th>\n",
              "      <td>https://worldnewsdailyreport.com/san-francisco...</td>\n",
              "      <td>san francisco: uber driver admits to being for...</td>\n",
              "      <td>1</td>\n",
              "    </tr>\n",
              "    <tr>\n",
              "      <th>158</th>\n",
              "      <td>https://worldnewsdailyreport.com/a-page-turns-...</td>\n",
              "      <td>a page turns in las vegas’ history: 76-year ol...</td>\n",
              "      <td>1</td>\n",
              "    </tr>\n",
              "    <tr>\n",
              "      <th>159</th>\n",
              "      <td>https://worldnewsdailyreport.com/homeless-mans...</td>\n",
              "      <td>homeless man’s penis ‘snapped in half’ during ...</td>\n",
              "      <td>1</td>\n",
              "    </tr>\n",
              "    <tr>\n",
              "      <th>160</th>\n",
              "      <td>https://worldnewsdailyreport.com/colorado-man-...</td>\n",
              "      <td>colorado man claims he was held 2 weeks as a s...</td>\n",
              "      <td>1</td>\n",
              "    </tr>\n",
              "  </tbody>\n",
              "</table>\n",
              "<p>161 rows × 3 columns</p>\n",
              "</div>"
            ],
            "text/plain": [
              "                                          article_link  ... is_sarcastic\n",
              "0    https://worldnewsdailyreport.com/woman-runs-ov...  ...            1\n",
              "1    https://worldnewsdailyreport.com/police-shut-d...  ...            1\n",
              "2    https://worldnewsdailyreport.com/convicted-aus...  ...            1\n",
              "3    https://worldnewsdailyreport.com/male-stripper...  ...            1\n",
              "4    https://worldnewsdailyreport.com/1500-year-old...  ...            1\n",
              "..                                                 ...  ...          ...\n",
              "156  https://worldnewsdailyreport.com/florida-teen-...  ...            1\n",
              "157  https://worldnewsdailyreport.com/san-francisco...  ...            1\n",
              "158  https://worldnewsdailyreport.com/a-page-turns-...  ...            1\n",
              "159  https://worldnewsdailyreport.com/homeless-mans...  ...            1\n",
              "160  https://worldnewsdailyreport.com/colorado-man-...  ...            1\n",
              "\n",
              "[161 rows x 3 columns]"
            ]
          },
          "metadata": {
            "tags": []
          },
          "execution_count": 5
        }
      ]
    },
    {
      "cell_type": "markdown",
      "metadata": {
        "id": "rPL78kfln8Wi"
      },
      "source": [
        "### 3. CRAWL lại\n",
        "Phương pháp giống với web 4"
      ]
    },
    {
      "cell_type": "code",
      "metadata": {
        "id": "IWDMmIfMol-z"
      },
      "source": [
        "FullLink = []\n",
        "months = range(1,13)\n",
        "for year in range(2018,2022):\n",
        "  if year == 2018:\n",
        "    months = range(6,13)\n",
        "  if year == 2021:\n",
        "    months = range(1,6)\n",
        "  for month in months:\n",
        "    link = \"https://worldnewsdailyreport.com/\" + str(year) +\"/\" + str(month) + \"/\"\n",
        "    FullLink.append(link)\n",
        "print(*FullLink,sep=\"\\n\")"
      ],
      "execution_count": null,
      "outputs": []
    },
    {
      "cell_type": "code",
      "metadata": {
        "id": "yUQf6IfupayT"
      },
      "source": [
        "response = requests.get('https://worldnewsdailyreport.com/2019/page/1')\n",
        "soup = BeautifulSoup(response.content, \"html.parser\")\n",
        "\n",
        "# Check và thấy rằng mỗi paper đều nằm trong một thẻ dev và có chung class:\"item-details\"\n",
        "papers = soup.findAll('h3', class_='entry-title content-list-title')\n",
        "for paper in papers:\n",
        "  try:\n",
        "    # Kiểm tra và thấy link của bài báo nằm ở trong thẻ a thuộc tính href\n",
        "    link = paper.find('a').attrs[\"href\"]\n",
        "    # Kiểm tra và thấy tiêu đề của bài báo nằm trong thẻ a thuộc tính title\n",
        "    title = paper.find('a').attrs[\"title\"].lower()\n",
        "\n",
        "    print(link)\n",
        "    print(title)\n",
        "  except:\n",
        "    continue    "
      ],
      "execution_count": null,
      "outputs": []
    },
    {
      "cell_type": "code",
      "metadata": {
        "id": "IbrGBjRXp_pA"
      },
      "source": [
        "article_link = []\n",
        "headline = []\n",
        "for categorylink in FullLink:\n",
        "  number = 0\n",
        "  while True:\n",
        "    try:\n",
        "      number += 1\n",
        "      curentcategory = categorylink + \"page/\" + str(number) + \"/\";\n",
        "      # Thử tìm thử trong một Category\n",
        "      response = requests.get(curentcategory)\n",
        "      soup = BeautifulSoup(response.content, \"html.parser\")\n",
        "      # Check và thấy rằng mỗi paper đều nằm trong một thẻ dev và có chung class:\"item-details\"\n",
        "      papers = soup.findAll('h3', class_='entry-title content-list-title')\n",
        "      # Dừng khi ko trang request ko có bài báo nào\n",
        "      if len(papers) == 0:\n",
        "        break\n",
        "      for paper in papers:\n",
        "        # Kiểm tra và thấy link của bài báo nằm ở trong thẻ a thuộc tính href\n",
        "        link = paper.find('a').attrs[\"href\"]\n",
        "        # Kiểm tra và thấy tiêu đề của bài báo nằm trong thẻ a thuộc tính title\n",
        "        title = paper.find('a').attrs[\"title\"].lower()\n",
        "\n",
        "        article_link.append(link)\n",
        "        headline.append(title)\n",
        "    except:\n",
        "      break"
      ],
      "execution_count": null,
      "outputs": []
    },
    {
      "cell_type": "code",
      "metadata": {
        "id": "_0hrJCHwq4wq"
      },
      "source": [
        "import pandas as pd\n",
        "FullData3 = pd.DataFrame(columns= ['article_link', 'headline', 'is_sarcastic'])\n",
        "FullData3['article_link'] = article_link\n",
        "FullData3['headline'] = headline\n",
        "FullData3['is_sarcastic'] = 1\n",
        "FullData3"
      ],
      "execution_count": null,
      "outputs": []
    },
    {
      "cell_type": "markdown",
      "metadata": {
        "id": "N8dEaPm_oYZc"
      },
      "source": [
        "### 4. Save CSV"
      ]
    },
    {
      "cell_type": "code",
      "metadata": {
        "id": "MLQDh8cK0eJn",
        "colab": {
          "base_uri": "https://localhost:8080/"
        },
        "outputId": "b18cf73a-1b26-46cc-e4df-85514423d766"
      },
      "source": [
        "from google.colab import drive\n",
        "drive.mount('/content/drive')\n",
        "FullData3.to_csv(r'/content/drive/MyDrive/Colab Notebooks/DATA_ML/WorldNewsDailyReport.csv', index = False, header=False)"
      ],
      "execution_count": 6,
      "outputs": [
        {
          "output_type": "stream",
          "text": [
            "Drive already mounted at /content/drive; to attempt to forcibly remount, call drive.mount(\"/content/drive\", force_remount=True).\n"
          ],
          "name": "stdout"
        }
      ]
    },
    {
      "cell_type": "markdown",
      "metadata": {
        "id": "CJ_CVvWj1sIR"
      },
      "source": [
        "## 4. [NewsBiscuit](http://www.newsbiscuit.com/)\n",
        "** Ý tưởng: Thử truy cập thử vào web thấy các địa chỉ web có ngày tháng, tiến hành kiểm tra thì khá ổn http://www.newsbiscuit.com/2021/06/05/\n",
        "- Tạo link để request\n",
        "- resquest và lấy bài\n"
      ]
    },
    {
      "cell_type": "markdown",
      "metadata": {
        "id": "-vHF77ys_UtS"
      },
      "source": [
        "### Bước 1 Tạo danh sách link request"
      ]
    },
    {
      "cell_type": "code",
      "metadata": {
        "colab": {
          "base_uri": "https://localhost:8080/"
        },
        "id": "ZsySIhNs_UtS",
        "outputId": "aba22043-3baf-42eb-bf9e-441dcd98861c"
      },
      "source": [
        "FullLink = []\n",
        "months = range(1,13)\n",
        "for year in range(2018,2022):\n",
        "  if year == 2018:\n",
        "    months = range(6,13)\n",
        "  if year == 2021:\n",
        "    months = range(1,6)\n",
        "  for month in months:\n",
        "    link = \"http://www.newsbiscuit.com/\" + str(year) +\"/\" + str(month) + \"/\"\n",
        "    FullLink.append(link)\n",
        "print(*FullLink,sep=\"\\n\")"
      ],
      "execution_count": 2,
      "outputs": [
        {
          "output_type": "stream",
          "text": [
            "http://www.newsbiscuit.com/2018/6/\n",
            "http://www.newsbiscuit.com/2018/7/\n",
            "http://www.newsbiscuit.com/2018/8/\n",
            "http://www.newsbiscuit.com/2018/9/\n",
            "http://www.newsbiscuit.com/2018/10/\n",
            "http://www.newsbiscuit.com/2018/11/\n",
            "http://www.newsbiscuit.com/2018/12/\n",
            "http://www.newsbiscuit.com/2019/6/\n",
            "http://www.newsbiscuit.com/2019/7/\n",
            "http://www.newsbiscuit.com/2019/8/\n",
            "http://www.newsbiscuit.com/2019/9/\n",
            "http://www.newsbiscuit.com/2019/10/\n",
            "http://www.newsbiscuit.com/2019/11/\n",
            "http://www.newsbiscuit.com/2019/12/\n",
            "http://www.newsbiscuit.com/2020/6/\n",
            "http://www.newsbiscuit.com/2020/7/\n",
            "http://www.newsbiscuit.com/2020/8/\n",
            "http://www.newsbiscuit.com/2020/9/\n",
            "http://www.newsbiscuit.com/2020/10/\n",
            "http://www.newsbiscuit.com/2020/11/\n",
            "http://www.newsbiscuit.com/2020/12/\n",
            "http://www.newsbiscuit.com/2021/1/\n",
            "http://www.newsbiscuit.com/2021/2/\n",
            "http://www.newsbiscuit.com/2021/3/\n",
            "http://www.newsbiscuit.com/2021/4/\n",
            "http://www.newsbiscuit.com/2021/5/\n"
          ],
          "name": "stdout"
        }
      ]
    },
    {
      "cell_type": "markdown",
      "metadata": {
        "id": "LpYQo9T8_UtT"
      },
      "source": [
        "### Bước 2 truy cập từng thu mục lấy các bài về"
      ]
    },
    {
      "cell_type": "markdown",
      "metadata": {
        "id": "-1EzrRXb_UtT"
      },
      "source": [
        "#### a) Phân tích thử một mục"
      ]
    },
    {
      "cell_type": "code",
      "metadata": {
        "colab": {
          "base_uri": "https://localhost:8080/"
        },
        "id": "4nKFC72Z_UtT",
        "outputId": "c58586f1-e578-4a41-e645-8c2c00f23fee"
      },
      "source": [
        "# Import thư viện\n",
        "import requests\n",
        "from bs4 import BeautifulSoup\n",
        "# Thử tìm thử trong một Category\n",
        "response = requests.get(\"http://www.newsbiscuit.com/2021/2/page/3/\")\n",
        "soup = BeautifulSoup(response.content, \"html.parser\")\n",
        "# Check và thấy rằng mỗi paper đều nằm trong một thẻ dev và có chung class:\"item-details\"\n",
        "papers = soup.findAll('div', class_='col-sm-8 text-center')\n",
        "for paper in papers:\n",
        "  # Kiểm tra và thấy link của bài báo nằm ở trong thẻ a thuộc tính href\n",
        "  link = paper.find('a').attrs[\"href\"]\n",
        "  # Kiểm tra và thấy tiêu đề của bài báo nằm trong thẻ a thuộc tính title\n",
        "  title = paper.find('a').text\n",
        "  print(title + \",\"+link)"
      ],
      "execution_count": 3,
      "outputs": [
        {
          "output_type": "stream",
          "text": [
            "Government commission statue of Matt Hancock to topple,http://www.newsbiscuit.com/2021/02/25/government-commission-statue-of-matt-hancock-to-topple/\n",
            "Population of England already asking Boris ‘are we there yet?’,http://www.newsbiscuit.com/2021/02/24/population-of-england-already-asking-boris-are-we-there-yet/\n",
            "‘Coffee on a bench': Derbyshire police remove all benches from county,http://www.newsbiscuit.com/2021/02/24/coffee-on-a-bench-derbyshire-police-remove-all-benches-from-county/\n",
            "New variant of Boris Johnson discovered,http://www.newsbiscuit.com/2021/02/24/new-variant-of-boris-johnson-discovered/\n",
            "Harry Windsor to be next James Bond,http://www.newsbiscuit.com/2021/02/23/harry-windsor-to-be-next-james-bond/\n"
          ],
          "name": "stdout"
        }
      ]
    },
    {
      "cell_type": "markdown",
      "metadata": {
        "id": "NQSXjNyS_UtU"
      },
      "source": [
        "#### b) CRAWL CẢ TRANG"
      ]
    },
    {
      "cell_type": "code",
      "metadata": {
        "id": "oHC4zHevsGm4"
      },
      "source": [
        "article_link = []\n",
        "headline = []\n",
        "for categorylink in FullLink:\n",
        "  number = 0\n",
        "  while True:\n",
        "    try:\n",
        "      number += 1\n",
        "      linkSiteMap = categorylink + \"page/\" + str(number) + \"/\";\n",
        "      # Thử tìm thử trong một Category\n",
        "      response = requests.get(linkSiteMap)\n",
        "      soup = BeautifulSoup(response.content, \"html.parser\")\n",
        "      # Check và thấy rằng mỗi paper đều nằm trong một thẻ dev và có chung class:\"item-details\"\n",
        "      papers = soup.findAll('div', class_='col-sm-8 text-center')\n",
        "      # Dừng khi ko trang request ko có bài báo nào\n",
        "      if len(papers) == 0:\n",
        "        break\n",
        "      for paper in papers:\n",
        "        # Kiểm tra và thấy link của bài báo nằm ở trong thẻ a thuộc tính href\n",
        "        link = paper.find('a').attrs[\"href\"]\n",
        "        # Kiểm tra và thấy tiêu đề của bài báo nằm trong thẻ a thuộc tính title\n",
        "        title = paper.find('a').text.lower()\n",
        "        article_link.append(link)\n",
        "        headline.append(title)\n",
        "      print(linkSiteMap)\n",
        "    except:\n",
        "      break"
      ],
      "execution_count": null,
      "outputs": []
    },
    {
      "cell_type": "code",
      "metadata": {
        "id": "ub7k1AXq_UtV",
        "colab": {
          "base_uri": "https://localhost:8080/",
          "height": 419
        },
        "outputId": "41732e1a-18b0-4822-f3a8-a59fa3c80401"
      },
      "source": [
        "import pandas as pd\n",
        "FullData4 = pd.DataFrame(columns= ['article_link', 'headline', 'is_sarcastic'])\n",
        "FullData4['article_link'] = article_link\n",
        "FullData4['headline'] = headline\n",
        "FullData4['is_sarcastic'] = 1\n",
        "FullData4"
      ],
      "execution_count": 5,
      "outputs": [
        {
          "output_type": "execute_result",
          "data": {
            "text/html": [
              "<div>\n",
              "<style scoped>\n",
              "    .dataframe tbody tr th:only-of-type {\n",
              "        vertical-align: middle;\n",
              "    }\n",
              "\n",
              "    .dataframe tbody tr th {\n",
              "        vertical-align: top;\n",
              "    }\n",
              "\n",
              "    .dataframe thead th {\n",
              "        text-align: right;\n",
              "    }\n",
              "</style>\n",
              "<table border=\"1\" class=\"dataframe\">\n",
              "  <thead>\n",
              "    <tr style=\"text-align: right;\">\n",
              "      <th></th>\n",
              "      <th>article_link</th>\n",
              "      <th>headline</th>\n",
              "      <th>is_sarcastic</th>\n",
              "    </tr>\n",
              "  </thead>\n",
              "  <tbody>\n",
              "    <tr>\n",
              "      <th>0</th>\n",
              "      <td>http://www.newsbiscuit.com/2018/06/30/hoses-to...</td>\n",
              "      <td>hoses to blame for grenfell. flammable materia...</td>\n",
              "      <td>1</td>\n",
              "    </tr>\n",
              "    <tr>\n",
              "      <th>1</th>\n",
              "      <td>http://www.newsbiscuit.com/2018/06/30/duchess-...</td>\n",
              "      <td>duchess of cambridge to carry out next texas e...</td>\n",
              "      <td>1</td>\n",
              "    </tr>\n",
              "    <tr>\n",
              "      <th>2</th>\n",
              "      <td>http://www.newsbiscuit.com/2018/06/29/fifa-bri...</td>\n",
              "      <td>fifa brings in kirstie allsop to makeover ‘aus...</td>\n",
              "      <td>1</td>\n",
              "    </tr>\n",
              "    <tr>\n",
              "      <th>3</th>\n",
              "      <td>http://www.newsbiscuit.com/2018/06/29/britain-...</td>\n",
              "      <td>britain hotter than some cities that must be q...</td>\n",
              "      <td>1</td>\n",
              "    </tr>\n",
              "    <tr>\n",
              "      <th>4</th>\n",
              "      <td>http://www.newsbiscuit.com/2018/06/29/england-...</td>\n",
              "      <td>england 0 – 1 belgium not a brexit metaphor, g...</td>\n",
              "      <td>1</td>\n",
              "    </tr>\n",
              "    <tr>\n",
              "      <th>...</th>\n",
              "      <td>...</td>\n",
              "      <td>...</td>\n",
              "      <td>...</td>\n",
              "    </tr>\n",
              "    <tr>\n",
              "      <th>2723</th>\n",
              "      <td>http://www.newsbiscuit.com/2021/05/02/many-to-...</td>\n",
              "      <td>many to use may day bank holiday to ponder utt...</td>\n",
              "      <td>1</td>\n",
              "    </tr>\n",
              "    <tr>\n",
              "      <th>2724</th>\n",
              "      <td>http://www.newsbiscuit.com/2021/05/02/voters-h...</td>\n",
              "      <td>‘voters happy with corruption as long as mps h...</td>\n",
              "      <td>1</td>\n",
              "    </tr>\n",
              "    <tr>\n",
              "      <th>2725</th>\n",
              "      <td>http://www.newsbiscuit.com/2021/05/01/people-a...</td>\n",
              "      <td>‘people aren’t interested in piracy but in imp...</td>\n",
              "      <td>1</td>\n",
              "    </tr>\n",
              "    <tr>\n",
              "      <th>2726</th>\n",
              "      <td>http://www.newsbiscuit.com/2021/05/01/boris-jo...</td>\n",
              "      <td>boris johnson’s personal phone number discover...</td>\n",
              "      <td>1</td>\n",
              "    </tr>\n",
              "    <tr>\n",
              "      <th>2727</th>\n",
              "      <td>http://www.newsbiscuit.com/2021/05/01/matt-han...</td>\n",
              "      <td>matt hancock ‘still awful’</td>\n",
              "      <td>1</td>\n",
              "    </tr>\n",
              "  </tbody>\n",
              "</table>\n",
              "<p>2728 rows × 3 columns</p>\n",
              "</div>"
            ],
            "text/plain": [
              "                                           article_link  ... is_sarcastic\n",
              "0     http://www.newsbiscuit.com/2018/06/30/hoses-to...  ...            1\n",
              "1     http://www.newsbiscuit.com/2018/06/30/duchess-...  ...            1\n",
              "2     http://www.newsbiscuit.com/2018/06/29/fifa-bri...  ...            1\n",
              "3     http://www.newsbiscuit.com/2018/06/29/britain-...  ...            1\n",
              "4     http://www.newsbiscuit.com/2018/06/29/england-...  ...            1\n",
              "...                                                 ...  ...          ...\n",
              "2723  http://www.newsbiscuit.com/2021/05/02/many-to-...  ...            1\n",
              "2724  http://www.newsbiscuit.com/2021/05/02/voters-h...  ...            1\n",
              "2725  http://www.newsbiscuit.com/2021/05/01/people-a...  ...            1\n",
              "2726  http://www.newsbiscuit.com/2021/05/01/boris-jo...  ...            1\n",
              "2727  http://www.newsbiscuit.com/2021/05/01/matt-han...  ...            1\n",
              "\n",
              "[2728 rows x 3 columns]"
            ]
          },
          "metadata": {
            "tags": []
          },
          "execution_count": 5
        }
      ]
    },
    {
      "cell_type": "markdown",
      "metadata": {
        "id": "b85b064u_UtV"
      },
      "source": [
        "#### c) Save to .CSV"
      ]
    },
    {
      "cell_type": "code",
      "metadata": {
        "colab": {
          "base_uri": "https://localhost:8080/"
        },
        "id": "qyi2xuE9_UtV",
        "outputId": "7ca94f93-5022-45cc-f3de-38e3fc2ac4e8"
      },
      "source": [
        "from google.colab import drive\n",
        "drive.mount('/content/drive')\n",
        "FullData4.to_csv(r'/content/drive/MyDrive/Colab Notebooks/DATA_ML/NewsBiscuit.csv', index = False, header=False)"
      ],
      "execution_count": 7,
      "outputs": [
        {
          "output_type": "stream",
          "text": [
            "Drive already mounted at /content/drive; to attempt to forcibly remount, call drive.mount(\"/content/drive\", force_remount=True).\n"
          ],
          "name": "stdout"
        }
      ]
    },
    {
      "cell_type": "markdown",
      "metadata": {
        "id": "INF-iGcR0PUY"
      },
      "source": [
        "# B. Các trang web chính thống:"
      ]
    }
  ]
}