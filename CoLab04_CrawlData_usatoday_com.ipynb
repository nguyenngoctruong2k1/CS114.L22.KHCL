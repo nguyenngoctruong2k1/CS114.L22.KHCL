{
  "nbformat": 4,
  "nbformat_minor": 0,
  "metadata": {
    "accelerator": "GPU",
    "colab": {
      "name": " CoLab04_CrawlData_usatoday.com",
      "provenance": [],
      "collapsed_sections": [
        "Ui999VG_gRso",
        "8Z9pYq_3lYL8",
        "pBNJOlpQoMOs"
      ],
      "authorship_tag": "ABX9TyNeFuBYWXs9x/AWIL7LFAZJ",
      "include_colab_link": true
    },
    "kernelspec": {
      "display_name": "Python 3",
      "name": "python3"
    },
    "language_info": {
      "name": "python"
    }
  },
  "cells": [
    {
      "cell_type": "markdown",
      "metadata": {
        "id": "view-in-github",
        "colab_type": "text"
      },
      "source": [
        "<a href=\"https://colab.research.google.com/github/nguyenngoctruong2k1/CS114.L22.KHCL/blob/main/CoLab04_CrawlData_usatoday_com.ipynb\" target=\"_parent\"><img src=\"https://colab.research.google.com/assets/colab-badge.svg\" alt=\"Open In Colab\"/></a>"
      ]
    },
    {
      "cell_type": "markdown",
      "metadata": {
        "id": "6XE6DEPQaq5O"
      },
      "source": [
        "## https://www.usatoday.com/\n",
        " *Ý tưởng:\n",
        "- Giống như đã là với TheOnion\n",
        "- Kiểm tra sitemap thì web này có, sitemap phát triển trên ý tưởng thời gian\n",
        "- Sử dụng sitemap https://www.usatoday.com/sitemap/2021/february/10/\n",
        "- Tìm từ tháng 1 tháng 6 năm 2018 ->2021"
      ]
    },
    {
      "cell_type": "markdown",
      "metadata": {
        "id": "Ui999VG_gRso"
      },
      "source": [
        "### a. Xây dựng link để request"
      ]
    },
    {
      "cell_type": "code",
      "metadata": {
        "id": "NHpHZeNDieUK"
      },
      "source": [
        "months_ = [\"january\",\"february\",\"march\",\"april\",\"may\",\"june\",\"july\",\"august\",\"september\",\"october\",\"november\",\"december\"]"
      ],
      "execution_count": 98,
      "outputs": []
    },
    {
      "cell_type": "code",
      "metadata": {
        "colab": {
          "base_uri": "https://localhost:8080/"
        },
        "id": "0x0Kd8nnhsiS",
        "outputId": "39b4336e-5b6e-4c4c-fdaf-8943c61e09c3"
      },
      "source": [
        "FullLink = []\n",
        "for year in range(2018,2022):\n",
        "  months = months_\n",
        "  if year == 2018:\n",
        "    months = months_[5:-1]\n",
        "  if year == 2021:\n",
        "    months = months_[0:5]\n",
        "  for month in months:\n",
        "    for day in range(1,32):\n",
        "      link = \"https://www.usatoday.com/sitemap/\" + str(year) +\"/\" + month + \"/\" +str(day)\n",
        "      FullLink.append(link)\n",
        "print(*FullLink[0:10],sep=\"\\n\")\n",
        "print(*FullLink[-10:-1],sep=\"\\n\")"
      ],
      "execution_count": 99,
      "outputs": [
        {
          "output_type": "stream",
          "text": [
            "https://www.usatoday.com/sitemap/2018/june/1\n",
            "https://www.usatoday.com/sitemap/2018/june/2\n",
            "https://www.usatoday.com/sitemap/2018/june/3\n",
            "https://www.usatoday.com/sitemap/2018/june/4\n",
            "https://www.usatoday.com/sitemap/2018/june/5\n",
            "https://www.usatoday.com/sitemap/2018/june/6\n",
            "https://www.usatoday.com/sitemap/2018/june/7\n",
            "https://www.usatoday.com/sitemap/2018/june/8\n",
            "https://www.usatoday.com/sitemap/2018/june/9\n",
            "https://www.usatoday.com/sitemap/2018/june/10\n",
            "https://www.usatoday.com/sitemap/2021/may/22\n",
            "https://www.usatoday.com/sitemap/2021/may/23\n",
            "https://www.usatoday.com/sitemap/2021/may/24\n",
            "https://www.usatoday.com/sitemap/2021/may/25\n",
            "https://www.usatoday.com/sitemap/2021/may/26\n",
            "https://www.usatoday.com/sitemap/2021/may/27\n",
            "https://www.usatoday.com/sitemap/2021/may/28\n",
            "https://www.usatoday.com/sitemap/2021/may/29\n",
            "https://www.usatoday.com/sitemap/2021/may/30\n"
          ],
          "name": "stdout"
        }
      ]
    },
    {
      "cell_type": "markdown",
      "metadata": {
        "id": "8Z9pYq_3lYL8"
      },
      "source": [
        "### b) Thử nghiệm 1 link"
      ]
    },
    {
      "cell_type": "code",
      "metadata": {
        "colab": {
          "base_uri": "https://localhost:8080/"
        },
        "id": "fEuIW9CClcqo",
        "outputId": "06460627-6859-4532-eaf5-b5c3fd77f774"
      },
      "source": [
        "# Thử tìm thử trong một Category\n",
        "response = requests.get(\"https://www.usatoday.com/sitemap/2021/may/22\")\n",
        "soup = BeautifulSoup(response.content, \"html.parser\")\n",
        "# Check và thấy rằng mỗi paper đều nằm trong một thẻ dev và có chung class:\"item-details\"\n",
        "papers = soup.findAll('li', class_='sitemap-list-item')\n",
        "for paper in papers[0:10]:\n",
        "  print(paper)"
      ],
      "execution_count": 108,
      "outputs": [
        {
          "output_type": "stream",
          "text": [
            "<li class=\"sitemap-list-item\"><a href=\"/sitemap/2021/\">2021</a></li>\n",
            "<li class=\"sitemap-list-item sitemap-month-name\"><a href=\"/sitemap/2021/may/\">may</a></li>\n",
            "<li class=\"sitemap-list-item sitemap-month-name active\">may 22</li>\n",
            "<li class=\"sitemap-list-item\"><a href=\"https://www.usatoday.com/story/sports/golf/2021/05/21/sarah-kemp-takes-lpga-tour-lead-at-firm-and-fast-kingsmill/44241349/\">Sarah Kemp takes LPGA Tour lead at firm and fast Kingsmill</a></li>\n",
            "<li class=\"sitemap-list-item\"><a href=\"https://www.usatoday.com/web-stories/1st-generation-student-struggles-to-balance-college-work-amid-covid/\">1st-generation student struggles to find balance amid COVID</a></li>\n",
            "<li class=\"sitemap-list-item\"><a href=\"https://www.usatoday.com/story/news/2021/05/21/state-drop-social-distancing-requirements-june/5208785001/\">State to drop social distancing requirements in June</a></li>\n",
            "<li class=\"sitemap-list-item\"><a href=\"https://www.usatoday.com/story/sports/mlb/2021/05/21/yankees-cf-hicks-to-have-surgery-out-several-months/44241605/\">Yankees CF Hicks to have surgery, out several months</a></li>\n",
            "<li class=\"sitemap-list-item\"><a href=\"https://www.usatoday.com/story/sports/golf/2021/05/21/column-pure-golf-at-the-pga-something-everyone-understands/44241683/\">Column: Pure golf at the PGA, something everyone understands</a></li>\n",
            "<li class=\"sitemap-list-item\"><a href=\"https://www.usatoday.com/story/sports/golf/2021/05/21/johnson-thomas-schauffele-miss-pga-cut-ryder-captains-in/44241469/\">Johnson, Thomas, Schauffele miss PGA cut; Ryder captains in</a></li>\n",
            "<li class=\"sitemap-list-item\"><a href=\"https://boxingjunkie.usatoday.com/2021/05/manny-pacquiao-errol-spence-jr-to-fight-on-aug-21\">Manny Pacquiao announces first fight in two years</a></li>\n"
          ],
          "name": "stdout"
        }
      ]
    },
    {
      "cell_type": "markdown",
      "metadata": {
        "id": "ZKIf3xeinWHR"
      },
      "source": [
        "* nhận xét: dữ liệu cần lấy nằm trong thẻ a, lấy thôi"
      ]
    },
    {
      "cell_type": "code",
      "metadata": {
        "colab": {
          "base_uri": "https://localhost:8080/"
        },
        "id": "HLDzyEkwlXk7",
        "outputId": "e8be7cf2-941c-4574-cd8f-e0a451e91b68"
      },
      "source": [
        "response = requests.get(\"https://www.usatoday.com/sitemap/2021/may/22/\")\n",
        "soup = BeautifulSoup(response.content, \"html.parser\")\n",
        "# Check và thấy rằng mỗi paper đều nằm trong một thẻ dev và có chung class:\"item-details\"\n",
        "papers = soup.findAll('li', class_='sitemap-list-item')\n",
        "for paper in papers:\n",
        "  try:\n",
        "    link = paper.find('a').attrs[\"href\"]\n",
        "    title = paper.find('a').text.lower()\n",
        "    if \"/sitemap/\" in link:\n",
        "      continue\n",
        "    print(link,title,1 )\n",
        "  except:\n",
        "    continue"
      ],
      "execution_count": 122,
      "outputs": [
        {
          "output_type": "stream",
          "text": [
            "https://www.usatoday.com/story/sports/golf/2021/05/21/sarah-kemp-takes-lpga-tour-lead-at-firm-and-fast-kingsmill/44241349/ sarah kemp takes lpga tour lead at firm and fast kingsmill 1\n",
            "https://www.usatoday.com/web-stories/1st-generation-student-struggles-to-balance-college-work-amid-covid/ 1st-generation student struggles to find balance amid covid 1\n",
            "https://www.usatoday.com/story/news/2021/05/21/state-drop-social-distancing-requirements-june/5208785001/ state to drop social distancing requirements in june 1\n",
            "https://www.usatoday.com/story/sports/mlb/2021/05/21/yankees-cf-hicks-to-have-surgery-out-several-months/44241605/ yankees cf hicks to have surgery, out several months 1\n",
            "https://www.usatoday.com/story/sports/golf/2021/05/21/column-pure-golf-at-the-pga-something-everyone-understands/44241683/ column: pure golf at the pga, something everyone understands 1\n",
            "https://www.usatoday.com/story/sports/golf/2021/05/21/johnson-thomas-schauffele-miss-pga-cut-ryder-captains-in/44241469/ johnson, thomas, schauffele miss pga cut; ryder captains in 1\n",
            "https://boxingjunkie.usatoday.com/2021/05/manny-pacquiao-errol-spence-jr-to-fight-on-aug-21 manny pacquiao announces first fight in two years 1\n",
            "https://www.usatoday.com/story/sports/golf/2021/05/21/oosthuizen-chasing-second-career-major-at-pga-again/44242139/ oosthuizen chasing second career major at pga _ again 1\n",
            "https://www.usatoday.com/story/sports/golf/2021/05/21/harry-higgs-is-keeping-his-caddie-for-the-pga-championship/44241617/ harry higgs is keeping his caddie for the pga championship 1\n",
            "https://www.usatoday.com/story/sports/mlb/2021/05/21/leading-off-mikolas-back-with-cards-cole-vs-abreu-chisox/44241547/ leading off: mikolas back with cards, cole vs abreu, chisox 1\n",
            "https://www.usatoday.com/story/news/politics/2021/05/21/epstein-prison-officers-avoid-jail-time-deal-feds/5212741001/ epstein prison officers to avoid jail time in deal with feds 1\n",
            "https://www.usatoday.com/story/sports/wnba/2021/05/21/tina-charles-stars-against-former-team-mystics-beat-liberty/44241635/ tina charles stars against former team, mystics beat liberty 1\n",
            "https://www.usatoday.com/story/news/politics/2021/05/21/biden-gives-k-pop-shout-out-part-global-cultural-connections/5211926001/ biden gives k-pop a shout-out as part of global cultural connections 1\n",
            "https://www.usatoday.com/story/sports/mlb/2021/05/21/positive-test-leads-mariners-to-place-4-on-covid-19-il/44241813/ positive test leads mariners to place 4 on covid-19 il 1\n",
            "https://www.usatoday.com/story/sports/wnba/2021/05/21/carter-scores-23-points-dream-beat-fever-for-1st-win/44241555/ carter scores 23 points, dream beat fever for 1st win 1\n",
            "https://www.usatoday.com/story/sports/ftw/2021/05/21/pga-championship-erik-van-rooyen-meltdown-shot-water/116411124/ pga championship: erik van rooyen loses it after shot rolls into water 1\n",
            "https://www.usatoday.com/web-stories/finding-hope-amid-hate-during-aapi-heritage-month/ finding hope amid hate in aapi heritage month 1\n",
            "https://www.usatoday.com/story/sports/golf/pga/2021/05/21/pga-championship-saturday-third-round-tee-times-tv-schedule-streaming/5212140001/ pga championship 2021: saturday tee times, tv schedule, streaming info 1\n",
            "https://www.usatoday.com/videos/news/nation/2021/05/22/jews-new-york-protest-israel/5214849001/ jews in new york protest israel 1\n",
            "https://www.usatoday.com/videos/news/nation/2021/05/22/wilmer-valderrama-and-moises-arias-their-new-movie-blast-beat/5214961001/ wilmer valderrama and moises arias on their new movie 'blast beat' 1\n",
            "https://www.usatoday.com/videos/entertainment/2021/05/22/wilmer-valderrama-and-moises-arias-their-new-movie-blast-beat/5214965001/ wilmer valderrama and moises arias on their new movie 'blast beat' 1\n",
            "https://www.usatoday.com/story/sports/nhl/2021/05/21/bruins-score-3-ppg-beat-capitals-4-1-for-3-1-series-lead/44241443/ bruins score 3 ppg, beat capitals 4-1 for 3-1 series lead 1\n",
            "https://www.usatoday.com/story/sports/mlb/yankees/2021/05/21/yankees-ninth-inning-triple-play-walkoff-white-sox/5215207001/ yankees turn triple play in 9th inning then beat white sox on walk-off 1\n",
            "https://www.usatoday.com/story/sports/nfl/2021/05/21/ex-jags-lb-smith-signs-plea-deal-avoids-underage-sex-charge/44241327/ ex-jags lb smith signs plea deal, avoids underage sex charge 1\n",
            "https://www.usatoday.com/story/sports/nhl/2021/05/21/nhl-playoffs-nazem-kadri-suspended-8-games-justin-faulk-hit/5207223001/ nhl playoffs: nazem kadri suspended 8 games for hit on justin faulk 1\n",
            "https://www.usatoday.com/story/sports/mlb/2021/05/21/tired-twins-shrug-off-travel-blast-indians-10-0/44241567/ tired twins shrug off travel, blast indians 10-0 1\n",
            "https://www.usatoday.com/story/sports/mlb/2021/05/21/strasburg-returns-pitches-into-6th-nats-beat-orioles-4-2/44241487/ strasburg returns, pitches into 6th, nats beat orioles 4-2 1\n",
            "https://www.usatoday.com/story/sports/mlb/2021/05/21/winker-hits-3-solo-home-runs-as-reds-beat-brewers/44241665/ winker hits 3 solo home runs as reds beat brewers 1\n",
            "https://www.usatoday.com/story/sports/nhl/2021/05/21/nhl-playoff-scores-predators-beat-hurricanes-bruins-beat-capitals/5216806001/ nhl playoff scores: predators top hurricanes; avs, bruins get 3rd win 1\n",
            "https://www.usatoday.com/story/sports/nba/2021/05/22/grizzlies-beat-warriors-overtime-thriller-clinch-eighth-seed/5213701001/ nba play-in: grizzlies hold off warriors in ot thriller for no. 8 seed 1\n",
            "https://www.usatoday.com/story/sports/nhl/2021/05/22/avalanches-nazem-kadri-suspended-8-games-for-hit-to-head/44241425/ avalanche's nazem kadri suspended 8 games for hit to head 1\n",
            "https://www.usatoday.com/story/sports/mlb/2021/05/22/acua-adrianza-hit-grand-slams-braves-rout-pirates-20-1/44242181/ acuña, adrianza hit grand slams, braves rout pirates 20-1 1\n",
            "https://www.usatoday.com/story/sports/mlb/2021/05/22/rookie-lee-finally-makes-contact-mets-beat-marlins-in-12th/44241697/ rookie lee finally makes contact, mets beat marlins in 12th 1\n",
            "https://www.usatoday.com/story/sports/mlb/2021/05/22/yanks-turn-triple-play-edge-white-sox-2-1-behind-torres/44241509/ yanks turn triple play, edge white sox 2-1 behind torres 1\n",
            "https://www.usatoday.com/story/sports/mlb/2021/05/22/meja-hits-grand-slam-in-12th-rays-beat-blue-jays-9-7/44241507/ mejía hits grand slam in 12th, rays beat blue jays 9-7 1\n",
            "https://www.usatoday.com/story/sports/nhl/2021/05/22/matt-duchene-scores-in-2-ot-predators-beat-hurricanes-5-4/44241651/ matt duchene scores in 2 ot, predators beat hurricanes 5-4 1\n",
            "https://www.usatoday.com/story/sports/wnba/2021/05/22/tina-charles-ariel-atkins-help-mystics-beat-liberty/44241583/ tina charles, ariel atkins help mystics beat liberty 1\n",
            "https://www.usatoday.com/story/sports/mlb/2021/05/22/pederson-happ-lead-hendricks-cubs-over-cardinals-12-3/44241551/ pederson, happ, lead hendricks, cubs over cardinals 12-3 1\n",
            "https://www.usatoday.com/story/sports/nhl/2021/05/22/matt-duchune-lifts-predators-past-hurricanes-in-2-ot/44241571/ matt duchune lifts predators past hurricanes in 2 ot 1\n",
            "https://www.usatoday.com/story/sports/mlb/2021/05/22/mcmahon-homers-twice-rockies-beat-diamondbacks-7-1/44241671/ mcmahon homers twice, rockies beat diamondbacks 7-1 1\n",
            "https://www.usatoday.com/story/sports/mlb/2021/05/22/cabraras-slam-solo-homer-lead-tigers-over-royals-7-5/44241439/ cabrara's slam, solo homer lead tigers over royals 7-5 1\n",
            "https://www.usatoday.com/story/sports/mlb/2021/05/22/devers-santana-go-deep-red-sox-beat-phillies-11-3/44242151/ devers, santana go deep, red sox beat phillies 11-3 1\n",
            "https://www.usatoday.com/story/sports/nba/2021/05/22/morant-grizzlies-beat-warriors-in-ot-advance-to-face-jazz/44241575/ morant, grizzlies beat warriors in ot, advance to face jazz 1\n",
            "https://www.usatoday.com/story/sports/mlb/2021/05/22/garcas-homer-in-10th-gives-rangers-7-5-win-over-astros/44241485/ garcía's homer in 10th gives rangers 7-5 win over astros 1\n",
            "https://www.usatoday.com/story/sports/nhl/2021/05/22/avs-score-3-in-2nd-beat-blues-5-1-to-take-a-3-0-series-lead/44241495/ avs score 3 in 2nd, beat blues 5-1 to take a 3-0 series lead 1\n",
            "https://www.usatoday.com/story/sports/mlb/2021/05/22/catch-this-laureano-pinder-do-it-all-as-top-angels-8-4/44241801/ catch this: laureano, pinder do it all, a's top angels 8-4 1\n",
            "https://www.usatoday.com/story/sports/nhl/2021/05/22/stastny-scores-in-ot-jets-beat-oilers-1-0-for-2-0-lead/44241673/ stastny scores in ot, jets beat oilers 1-0 for 2-0 lead 1\n",
            "https://www.usatoday.com/story/sports/mlb/2021/05/22/bauer-ks-11-dodgers-beat-giants-for-fifth-straight-win/116412188/ bauer k's 11, dodgers beat giants for fifth straight win 1\n",
            "https://www.usatoday.com/story/sports/golf/2021/05/22/mickelson-at-pga-is-atop-a-major-leaderboard-for-4th-decade/44241341/ mickelson at pga is atop a major leaderboard for 4th decade 1\n",
            "https://www.usatoday.com/story/sports/mlb/2021/05/22/tatis-hits-50th-career-homer-padres-rout-mariners-16-1/44242133/ tatis hits 50th career homer, padres rout mariners 16-1 1\n",
            "https://www.usatoday.com/story/sports/nba/2021/05/22/the-nba-playoffs-10-things-to-know-as-the-tourney-begins/44241593/ the nba playoffs: 10 things to know as the tourney begins 1\n",
            "https://www.usatoday.com/story/sports/mlb/2021/05/22/leading-off-mariners-hit-by-virus-mikolas-back-with-cards/44241421/ leading off: mariners hit by virus, mikolas back with cards 1\n",
            "https://www.usatoday.com/story/opinion/2021/05/22/chrissy-teigen-cyber-bully-cancel-culture-courtney-stodden/5185634001/ chrissy teigen-courtney stodden: cancel culture won't end bullying 1\n",
            "https://www.usatoday.com/story/sports/soccer/2021/05/22/the-return-of-the-wellington-phoenix-433-days-later/44242175/ the return of the (wellington) phoenix: 433 days later 1\n",
            "https://www.usatoday.com/story/sports/mlb/2021/05/22/count-em-mlb-hits-20000-players-when-godoy-debuts-for-ms/116412222/ count 'em! mlb hits 20,000 players when godoy debuts for m's 1\n",
            "https://www.usatoday.com/in-depth/news/politics/2021/05/22/gaffe-machine-goes-silent-biden-stays-message-president/5037495001/ a 'gaffe machine' goes silent: biden stays on message as president 1\n",
            "https://www.usatoday.com/in-depth/opinion/2021/05/22/importance-building-americans-broadband-network-infrastructure/5132948001/ the importance of building on american's broadband network 1\n",
            "https://www.usatoday.com/story/news/2021/05/22/us-flights-israel-hurricane-season-5-things-know-weekend/5195355001/ us flights to israel, hurricane season: 5 things to know this weekend 1\n",
            "https://www.usatoday.com/story/money/personalfinance/retirement/2021/05/22/adp-pepsi-sysco-stock-retirement/116399928/ adp, pepsi, sysco: three stocks to consider in your retirement 1\n",
            "https://www.usatoday.com/story/opinion/2021/05/22/israel-gaza-hamas-terror-jewish-people-column/5163782001/ israel-hamas conflict: jews have a right to exist, defend ourselves 1\n",
            "https://www.usatoday.com/story/sports/sports-betting/2021/05/22/miami-heat-at-milwaukee-bucks-game-1-odds-picks-and-prediction/116411830/ miami heat at milwaukee bucks game 1 odds, picks and prediction 1\n",
            "https://www.usatoday.com/story/news/2021/05/22/more-americans-back-palestinians-against-conflict-israel/5185821001/ more americans back palestinians against conflict with israel 1\n",
            "https://www.usatoday.com/story/sports/sports-betting/2021/05/22/pittsburgh-penguins-at-new-york-islanders-game-4-odds-picks-and-prediction/116411848/ pittsburgh penguins at new york islanders game 4 odds, picks and prediction 1\n",
            "https://www.usatoday.com/story/sports/olympics/2021/05/22/world-athletics-approves-23-russians-to-compete-as-neutrals/44241481/ world athletics approves 23 russians to compete as neutrals 1\n",
            "https://www.usatoday.com/picture-gallery/travel/10best/awards/2021/05/22/10-best-science-museums-united-states/5210281001/ these are the 10 best science museums in the united states 1\n",
            "https://www.usatoday.com/story/sports/mlb/2021/05/22/no-hitter-why-rangers-mariners-cleveland-has-been-twice-victimized/5193356001/ no-hitter: why rangers, mariners, cleveland has been twice victimized 1\n",
            "https://www.usatoday.com/in-depth/tech/gaming/2021/05/22/elder-scrolls-v-skyrim-survival-mode/4881837001/ why you should play elder scrolls v: skyrim on 'survival mode' 1\n",
            "https://www.usatoday.com/story/news/politics/2021/05/22/donald-trump-criminal-investigation-makes-his-political-future-murky/5166416001/ donald trump criminal investigation makes his political future murky 1\n",
            "https://www.usatoday.com/in-depth/money/shopping/2021/05/22/aldi-finds-deals-groceries-prices-savings-instacart-pickup/5074272001/ aldi deals: save on groceries, wine and aldi finds 'aisle of shame' 1\n",
            "https://www.usatoday.com/story/entertainment/books/2021/05/22/5-books-not-miss-lost-boys-montauk-king-richard-watergate/5086521001/ 5 books not to miss: ‘the lost boys of montauk,’ ‘king richard’ 1\n",
            "https://www.usatoday.com/story/opinion/2021/05/22/transgender-athletes-girls-women-sports-track-connecticut-column/5149532001/ why i believe i shouldn't be competing with transgender athletes 1\n",
            "https://www.usatoday.com/story/sports/sports-betting/2021/05/22/ufc-fight-night-188-edmen-shahbazyan-vs-jack-hermansson-odds-picks-and-prediction/116411898/ ufc fight night 188: edmen shahbazyan vs. jack hermansson odds, picks and prediction 1\n",
            "https://www.usatoday.com/story/sports/nhl/2021/05/22/nhl-scores-connor-mcdavid-dmitry-orlov-hit-kevan-miller/5214783001/ nhl scores: connor mcdavid shut out; bruins coach upset with call 1\n",
            "https://www.usatoday.com/in-depth/news/nation/2021/05/22/george-floyds-murder-generated-artwork-aimed-heal-and-bond/5080128001/ george floyd's murder generated artwork that aimed to heal and bond 1\n",
            "https://www.usatoday.com/story/sports/sports-betting/2021/05/22/chicago-white-sox-at-new-york-yankees-odds-picks-and-prediction/116411942/ chicago white sox at new york yankees odds, picks and prediction 1\n",
            "https://www.usatoday.com/story/sports/motor/formula1/2021/05/22/verstappen-tops-3rd-practice-for-monaco-gp-before-qualifying/44241609/ ferrari's leclerc takes pole for monaco gp, verstappen 2nd 1\n",
            "https://www.usatoday.com/story/sports/sports-betting/2021/05/22/ufc-fight-night-188-felicia-spencer-vs-norma-dumont-odds-picks-and-prediction/116411958/ ufc fight night 188: felicia spencer vs. norma dumont odds, picks and prediction 1\n",
            "https://www.usatoday.com/in-depth/entertainment/music/2021/05/22/sara-bareilles-interview-amidst-the-chaos-hollywood-bowl-girls-5-eva/5169233001/ sara bareilles talks hollywood bowl album, bizarre 'girls5eva' lyrics 1\n",
            "https://www.usatoday.com/story/entertainment/movies/2021/05/22/army-dead-zack-snyder-talks-spoilers-netflix-zombie-film/5174680001/ 'army of the dead': zack snyder talks big spoilers in his zombie film 1\n",
            "https://www.usatoday.com/in-depth/travel/cruises/2021/05/22/expedition-cruise-photos-antarctica-galapagos-arctic-alaska-greenland/5150368001/ cruise ship photos: expedition cruises take travelers to remote places 1\n",
            "https://www.usatoday.com/story/news/politics/2021/05/22/former-vice-president-mike-pence-and-his-wife-karen-move-back-indiana/5207465001/ former vice president mike pence and his wife, karen, move back to indiana 1\n",
            "https://www.usatoday.com/story/sports/sports-betting/2021/05/22/montreal-canadiens-at-toronto-maple-leafs-game-2-odds-picks-and-prediction/116412082/ montreal canadiens at toronto maple leafs game 2 odds, picks and prediction 1\n",
            "https://www.usatoday.com/story/sports/nba/warriors/2021/05/22/stephen-curry-draymond-green-warriors-optimistic-about-future/5219002001/ warriors optimistic about 2021-22 despite missing nba playoffs again 1\n",
            "https://www.usatoday.com/story/sports/sports-betting/2021/05/22/chicago-cubs-at-st-louis-cardinals-odds-picks-and-prediction/116412112/ chicago cubs at st. louis cardinals odds, picks and prediction 1\n",
            "https://www.usatoday.com/story/sports/sports-betting/2021/05/22/arizona-diamondbacks-at-colorado-rockies-odds-picks-and-prediction/116412166/ arizona diamondbacks at colorado rockies odds, picks and prediction 1\n",
            "https://www.usatoday.com/story/tech/2021/05/22/microsoft-internet-explorer-windows-retired-apple-imac-netflix-gaming/5201300001/ microsoft sidelining internet explorer; apple delivering new imacs 1\n",
            "https://www.usatoday.com/story/news/health/2021/05/22/covid-19-essential-caregiving-laws-nursing-homes/5168990001/ protected to death? covid-19 spurs rally for essential caregiving laws 1\n",
            "https://www.usatoday.com/story/sports/sports-betting/2021/05/22/pittsburgh-pirates-at-atlanta-braves-odds-picks-and-prediction/116412182/ pittsburgh pirates at atlanta braves odds, picks and prediction 1\n",
            "https://www.usatoday.com/in-depth/news/nation/2021/05/22/george-floyds-murder-fueled-black-lives-matter-movement-whats-next/4929808001/ george floyd's murder fueled black lives matter movement. what's next? 1\n",
            "https://www.usatoday.com/story/sports/sports-betting/2021/05/22/portland-trail-blazers-at-denver-nuggets-game-1-odds-picks-and-prediction/116412210/ portland trail blazers at denver nuggets game 1 odds, picks and prediction 1\n",
            "https://www.usatoday.com/videos/news/nation/2021/05/22/japanese-forces-hold-annual-fire-power-exercise/5219589001/ japanese forces hold annual fire power exercise 1\n",
            "https://www.usatoday.com/picture-gallery/travel/destinations/10greatplaces/2021/05/22/best-beaches-seashells-california-north-carolina/5205477001/ best beaches for seashells, from california to north carolina 1\n",
            "https://www.usatoday.com/story/travel/destinations/10greatplaces/2021/05/22/best-beaches-finding-seashells-floridas-sanibel-island-more/5203949001/ best beaches for finding seashells: florida's sanibel island, more 1\n",
            "https://www.usatoday.com/story/news/nation/2021/05/22/minneapolis-shooting-fatal-injured-police-say/5219575001/ minneapolis shooting: 2 dead, 8 others injured, police say 1\n",
            "https://www.usatoday.com/story/sports/columnist/nancy-armour/2021/05/22/chellsie-memmels-comeback-targets-tokyo-olympics/5191878001/ chellsie memmel's comeback is for real as she targets tokyo olympics 1\n",
            "https://www.usatoday.com/videos/travel/experience/theme-parks/2021/05/22/worlds-tallest-fastest-coaster-test-run/5219712001/ six flags reveals world's tallest, fastest coaster's test run in nj 1\n",
            "https://www.usatoday.com/story/entertainment/music/2021/05/22/apple-tv-1971-unearthed-moments-rock-music-docuseries/5190444001/ apple tv+ '1971': 5 unearthed moments that rock music docuseries 1\n",
            "https://www.usatoday.com/story/tech/columnist/2021/05/22/star-wars-pinball-retro-games-nostalgia-pac-man-pong/5202468001/ star wars pinball vr, retro games satisfy nostalgia for pac-man, pong 1\n",
            "https://www.usatoday.com/videos/news/nation/2021/05/22/morning-scenes-gaza-port-following-cease-fire/5219797001/ morning scenes at gaza port following cease-fire 1\n",
            "https://www.usatoday.com/story/news/health/2021/05/22/covid-news-california-reopening-summer-cases-ohio-vax-million/5210091001/ covid news: california reopening; summer cases; ohio vax-a-million 1\n",
            "https://www.usatoday.com/story/sports/sports-betting/2021/05/22/ufc-fight-night-188-rob-font-vs-cody-garbrandt-odds-picks-and-prediction/116412428/ ufc fight night 188: rob font vs. cody garbrandt odds, picks and prediction 1\n",
            "https://www.usatoday.com/videos/news/nation/2021/05/22/shopkeepers-view-damage-commercial-street-gaza/5219895001/ shopkeepers view damage on commercial street in gaza 1\n",
            "https://www.usatoday.com/story/news/nation/2021/05/22/mega-millions-515-million-winning-ticket-sold-pennsylvania/5219864001/ mega millions: $515 million winning ticket sold in pennsylvania 1\n",
            "https://www.usatoday.com/story/sports/sports-betting/2021/05/22/ufc-fight-night-188-yan-xiaonan-vs-carla-esparza-odds-picks-and-prediction/116412444/ ufc fight night 188: yan xiaonan vs. carla esparza odds, picks and prediction 1\n",
            "https://www.usatoday.com/story/sports/golf/2021/05/22/the-latest-horschel-off-to-fast-start-at-pga-as-wind-eases/44243955/ the latest: mickelson holds on to lead the pga championship 1\n",
            "https://www.usatoday.com/story/sports/cycling/2021/05/22/record-setting-centenarian-cyclist-marchand-dies-aged-109/44243947/ record-setting centenarian cyclist marchand dies aged 109 1\n",
            "https://www.usatoday.com/story/sports/sports-betting/2021/05/22/ufc-fight-night-188-justin-tafa-vs-jared-vanderaa-odds-picks-and-prediction/116412448/ ufc fight night 188: justin tafa vs. jared vanderaa odds, picks and prediction 1\n",
            "https://www.usatoday.com/story/entertainment/2021/05/22/bbc-diana-interview-former-director-resigns-gallery-board/5219979001/ bbc diana interview: former director resigns from gallery board 1\n",
            "https://www.usatoday.com/story/life/health-wellness/2021/05/22/social-outings-post-vaccination-awkward-but-thats-not-bad-thing/5204574001/ social outings post-vaccination are awkward but that's not a bad thing 1\n",
            "https://www.usatoday.com/story/news/nation/2021/05/22/coronavirus-indian-us-community-reacts-spike-covid-19-deaths/5220007001/ coronavirus in indian: us community reacts to spike of covid-19 deaths 1\n",
            "https://www.usatoday.com/story/sports/nba/lakers/2021/05/22/lebron-james-wont-face-quarantine-violating-nbas-covid-protocol/5219678001/ lebron james won't face quarantine for violating nba's covid protocol 1\n",
            "https://www.usatoday.com/story/news/world/2021/05/22/egyptian-mediators-hold-talks-firm-up-israel-hamas-truce-gaza/5220250001/ egyptian mediators hold talks to firm up israel-hamas truce in gaza 1\n",
            "https://www.usatoday.com/story/sports/sports-betting/2021/05/22/boston-celtics-at-brooklyn-nets-game-1-odds-picks-and-prediction/116412750/ boston celtics at brooklyn nets game 1 odds, picks and prediction 1\n",
            "https://www.usatoday.com/story/sports/soccer/2021/05/22/lewandowski-scores-in-last-minute-to-set-bundesliga-record/44248179/ lewandowski scores in last minute to set bundesliga record 1\n",
            "https://www.usatoday.com/story/news/nation/2021/05/22/california-road-rage-shooting-6-year-olds-family-seeks-shooter/5219877001/ california road rage shooting: 6-year-old's family seeks shooter 1\n",
            "https://www.usatoday.com/videos/news/nation/2021/05/22/austin-addresses-us-military-academy-class-2021/5220578001/ austin addresses us military academy class of 2021 1\n",
            "https://www.usatoday.com/story/news/politics/2021/05/22/debbie-dingell-hospitalized-surgery-ulcer/5220526001/ u.s. rep. debbie dingell undergoes surgery for perforated ulcer 1\n",
            "https://www.usatoday.com/story/sports/ncaaf/bigten/2021/05/22/michigan-football-brian-elwood-reid-robert-anderson-sexual-abuse/5220432001/ ex-michigan football player's novel mirrors report on doctor's abuse 1\n",
            "https://www.usatoday.com/picture-gallery/news/nation/2021/05/22/photos-us-military-academy-west-point-celebrates-2021-graduates/5220631001/ photos: us military academy at west point celebrates 2021 graduates 1\n",
            "https://www.usatoday.com/story/sports/sports-betting/2021/05/22/dallas-mavericks-at-los-angeles-clippers-odds-picks-and-prediction/116413174/ dallas mavericks at los angeles clippers odds, picks and prediction 1\n",
            "https://www.usatoday.com/story/sports/sports-betting/2021/05/22/boston-red-sox-at-philadelphia-phillies-odds-picks-and-prediction/116413238/ boston red sox at philadelphia phillies odds, picks and prediction 1\n",
            "https://www.usatoday.com/videos/news/nation/2021/05/22/queen-visits-hms-queen-elizabeth-portsmouth/5220825001/ queen visits hms queen elizabeth in portsmouth 1\n",
            "https://www.usatoday.com/videos/sports/nba/sportspulse/2021/05/22/grown-up-grizzlies-ja-morant-and-franchise-take-massive-step-forward-win-over-warriorsa/5220804001/ grown up grizzlies: ja morant and franchise take massive step forward with win over warriors 1\n",
            "https://www.usatoday.com/story/sports/ncaaf/mac/2021/05/22/central-michigan-qb-john-keller-released-from-hospital-after-shooting/5220714001/ central michigan qb john keller released from hospital after shooting 1\n",
            "https://www.usatoday.com/story/sports/nba/2021/05/22/theyre-back-knicks-hawks-to-return-with-big-playoff-crowd/44250427/ they're back: knicks, hawks to return with big playoff crowd 1\n",
            "https://www.usatoday.com/story/sports/nba/2021/05/22/76ers-trust-playoff-process-leads-to-1st-nba-title-since-83/44250921/ 76ers trust playoff process leads to 1st nba title since '83 1\n",
            "https://www.usatoday.com/story/sports/ncaab/2021/05/22/hoosiers-add-size-as-7-foot-center-decides-to-transfer/44251783/ hoosiers add size as 7-foot center decides to transfer 1\n",
            "https://www.usatoday.com/story/sports/tennis/2021/05/22/ruud-beats-shapovalov-to-win-geneva-open-title/44250931/ ruud beats shapovalov to win geneva open title 1\n",
            "https://www.usatoday.com/story/sports/nascar/2021/05/22/nascars-elliott-still-chasing-1st-win-of-season-in-texas/44251859/ nascar's elliott still chasing 1st win of season in texas 1\n",
            "https://www.usatoday.com/story/sports/sports-betting/2021/05/22/jose-zepeda-vs-henry-lundy-fight-odds-picks-and-prediction/116413544/ jose zepeda vs. henry lundy fight odds, picks and prediction 1\n",
            "https://www.usatoday.com/story/sports/mlb/2021/05/22/this-date-in-baseball/44252429/ this date in baseball 1\n",
            "https://www.usatoday.com/story/sports/sports-betting/2021/05/22/jose-carlos-ramirez-vs-josh-taylor-fight-odds-picks-and-prediction/116413540/ jose carlos ramirez vs. josh taylor fight odds, picks and prediction 1\n",
            "https://www.usatoday.com/videos/news/nation/2021/05/22/today-history-may-22nd/5221863001/ today in history for may 22nd 1\n",
            "https://www.usatoday.com/story/sports/motor/formula1/2021/05/22/hamilton-unhappy-after-poor-qualifying-effort-at-monaco/44252623/ hamilton unhappy after poor qualifying effort at monaco 1\n",
            "https://www.usatoday.com/story/entertainment/tv/2021/05/22/jedediah-bila-parts-ways-fox-news-excited-whats-come/5220366001/ jedediah bila parts ways with fox news: 'excited for what's to come' 1\n",
            "https://www.usatoday.com/videos/news/nation/2021/05/22/first-peek-new-panda-national-zoo/5209949001/ first peek of new panda at national zoo 1\n",
            "https://www.usatoday.com/story/money/2021/05/22/bitcoins-been-up-and-down-exactly-what-and-how-does-work/5220333001/ bitcoin's been up and down. exactly what is it and how does it work? 1\n",
            "https://www.usatoday.com/videos/news/nation/2021/05/22/protest-paris-show-support-palestinians/5222006001/ protest in paris to show support for palestinians 1\n",
            "https://www.usatoday.com/videos/news/nation/2021/05/22/biden-travels-camp-david-weekend/5222005001/ biden travels to camp david for the weekend 1\n",
            "https://www.usatoday.com/story/sports/nba/2021/05/22/nba-tells-head-coaches-they-can-go-without-masks-in-games/44251349/ unmasked: nba coaches allowed to open playoffs without masks 1\n",
            "https://www.usatoday.com/videos/news/politics/2021/05/22/epstein-prison-officers-no-jail-time/5222186001/ epstein prison officers charged will face no jail time, strike deal 1\n",
            "https://www.usatoday.com/story/sports/nba/2021/05/22/suns-draw-defending-champ-lakers-in-return-to-nba-playoffs/44254607/ suns draw defending champ lakers in return to nba playoffs 1\n",
            "https://www.usatoday.com/videos/news/nation/2021/05/22/virgin-galactic-rocket-ship-ascends-new-mexico/5222631001/ virgin galactic rocket ship ascends from new mexico 1\n",
            "https://www.usatoday.com/story/news/politics/2021/05/22/george-floyds-family-visit-president-joe-biden-white-house/5222533001/ george floyd’s family to visit president joe biden at white house 1\n",
            "https://www.usatoday.com/story/sports/soccer/2021/05/22/atltico-holds-on-to-win-1st-spanish-league-title-since-2014/44256111/ atlético holds on to win 1st spanish league title since 2014 1\n",
            "https://www.usatoday.com/story/sports/nba/2021/05/22/jazz-grizzlies-hungry-to-prove-themselves-in-playoffs/44308551/ jazz, grizzlies hungry to prove themselves in playoffs 1\n",
            "https://www.usatoday.com/story/nletter/health/2021/05/22/coronavirus-watch-ohio-vaccinations-jumped-after-vaccine-lotto-news/5222727001/ coronavirus watch: ohio vaccinations jumped after vaccine lotto news 1\n",
            "https://www.usatoday.com/story/sports/tennis/2021/05/22/coco-gauff-beats-wang-for-2nd-career-title-and-1st-on-clay/44250609/ coco gauff beats wang for 2nd career title and 1st on clay 1\n",
            "https://www.usatoday.com/videos/news/nation/2021/05/22/debbie-dingell-hospitalized-perforated-ulcer/5222922001/ debbie dingell hospitalized for a perforated ulcer 1\n",
            "https://www.usatoday.com/story/sports/sports-betting/2021/05/22/seattle-mariners-at-san-diego-padres-odds-picks-and-prediction/116414212/ seattle mariners at san diego padres odds, picks and prediction 1\n",
            "https://www.usatoday.com/story/sports/nhl/2021/05/22/killorn-kucherov-pace-lightnings-6-2-rout-of-panthers/44260667/ killorn, kucherov pace lightning's 6-2 rout of panthers 1\n",
            "https://www.usatoday.com/videos/news/nation/2021/05/22/hamas-militants-celebrate-ceasefire-gaza/5224029001/ hamas militants celebrate ceasefire in gaza 1\n",
            "https://www.usatoday.com/story/sports/nhl/2021/05/22/tavares-has-concussion-knee-injury-likely-to-miss-series/116414466/ tavares has concussion, knee injury; likely to miss series 1\n",
            "https://www.usatoday.com/videos/news/nation/2021/05/22/ap-top-stories-may-22-p/5224310001/ ap top stories may 22 1\n",
            "https://www.usatoday.com/videos/news/weather/2021/05/22/florida-wildfire-grows-10-times-its-size-less-than-day/5223832001/ florida wildfire grows to 10 times its size in less than a day 1\n",
            "https://www.usatoday.com/story/money/reviewed/2021/05/22/memorial-day-2021-30-best-furniture-shop-holiday/5201765001/ memorial day 2021: the 30 best furniture to shop this holiday 1\n",
            "https://www.usatoday.com/videos/news/nation/2021/05/22/pandemic-ebbs-alabama-city-throws-parade/5224429001/ as pandemic ebbs, alabama city throws parade 1\n",
            "https://www.usatoday.com/story/sports/nascar/2021/05/22/todd-gilliland-rallies-to-win-nascar-trucks-race-in-austin/44259953/ todd gilliland rallies to win nascar trucks race in austin 1\n",
            "https://www.usatoday.com/story/sports/nba/2021/05/22/national-teams-wait-on-nba-stars-for-olympic-qualifier-games/44260853/ national teams wait on nba stars for olympic qualifier games 1\n",
            "https://www.usatoday.com/story/sports/columnist/nancy-armour/2021/05/22/chellsie-memmel-comeback-us-classic-gymnastics/5224293001/ gymnastics: chellsie memmel shows age is just a number at us classic 1\n",
            "https://www.usatoday.com/story/news/world/2021/05/22/residents-flee-volcano-erupts-near-congolese-city-goma/5224640001/ residents flee as volcano erupts near congolese city of goma 1\n",
            "https://www.usatoday.com/story/travel/2021/05/22/barry-diller-park-built-media-mogul-opened-manhattan-week/5224666001/ barry diller: park built by media mogul opened in manhattan this week 1\n",
            "https://www.usatoday.com/story/sports/nba/2021/05/22/khris-middleton-lifts-bucks-past-heat-in-ot-in-game-1/44261749/ khris middleton lifts bucks past heat in ot in game 1 1\n",
            "https://www.usatoday.com/story/entertainment/2021/05/22/garth-brooks-dick-van-dyke-debbie-allen-more-earn-kennedy-center-honors/5224949001/ garth brooks, dick van dyke, more earn kennedy center honors 1\n",
            "https://www.usatoday.com/story/sports/nba/bucks/2021/05/22/khris-middleton-overtime-shot-milwaukee-bucks-beat-miami-heat/5225122001/ khris middleton overtime shot lifts milwaukee bucks over miami heat 1\n",
            "https://www.usatoday.com/story/news/nation/2021/05/22/israel-hamas-conflict-jewish-groups-sound-alarm-antisemitism-us/5220334001/ israel-hamas conflict: jewish groups sound alarm on antisemitism in us 1\n",
            "https://www.usatoday.com/story/tech/2021/05/22/tinder-bumble-make-easier-swipe-right-if-youve-got-vaccine/5225253001/ tinder, bumble make it easier to swipe right if you've got the vaccine 1\n",
            "https://www.usatoday.com/story/sports/mls/2021/05/22/moras-brace-helps-timbers-down-galaxy-3-0/116414902/ mora's brace helps timbers down galaxy 3-0 1\n",
            "https://www.usatoday.com/story/sports/nhl/2021/05/22/sorokin-islanders-beat-penguins-4-1-in-game-4-to-tie-series/44263041/ sorokin, islanders beat penguins 4-1 in game 4 to tie series 1\n",
            "https://www.usatoday.com/story/sports/nhl/2021/05/22/islanders-beat-penguins-4-1-to-tie-series-at-2/44263271/ islanders beat penguins 4-1 to tie series at 2 1\n",
            "https://www.usatoday.com/story/sports/mlb/2021/05/22/blue-jays-biggio-on-il-with-cervical-spine-ligament-sprain/44263451/ blue jays' biggio on il with cervical spine ligament sprain 1\n",
            "https://www.usatoday.com/story/sports/golf/2021/05/22/wei-ling-hsu-moriya-jutanugarn-share-lead-at-kingsmill/116415088/ wei-ling hsu, moriya jutanugarn share lead at kingsmill 1\n",
            "https://www.usatoday.com/story/sports/nhl/2021/05/22/nhl-playoff-scores-islanders-penguins-lightning-panthers/5226359001/ nhl scores: islanders even series; lightning take 3-1 lead 1\n",
            "https://www.usatoday.com/story/sports/nba/2021/05/22/doncic-has-31-points-mavs-beat-clippers-113-102-in-game-1/44266477/ doncic has 31 points, mavs beat clippers 113-103 in game 1 1\n",
            "https://www.usatoday.com/story/sports/nba/2021/05/22/luka-doncic-mavericks-steal-game-one-from-kawhi-leonard-clippers/5226794001/ nba playoffs: luka doncic, mavericks beat kawhi leonard, clippers 1\n",
            "https://www.usatoday.com/story/sports/mlb/2021/05/22/blackmans-hr-tapias-catch-lift-rockies-over-d-backs-7-6/44268089/ blackman's hr, tapia's catch lift rockies over d-backs 7-6 1\n",
            "https://golfweek.usatoday.com/2021/05/22/phil-mickelson-pga-championship-leading-brooks-koepka/ mickelson looking to make history as he takes lead into sunday at pga championship 1\n",
            "https://www.usatoday.com/story/sports/golf/2021/05/22/even-on-easier-ocean-course-low-scores-elusive-at-pga/44268447/ even on easier ocean course, low scores elusive at pga 1\n",
            "https://www.usatoday.com/story/sports/golf/2021/05/22/a-wild-ride-for-mickelson-and-18-holes-away-from-history/44268987/ a wild ride for mickelson and 18 holes away from history 1\n",
            "https://www.usatoday.com/story/sports/golf/2021/05/22/rangefinders-all-the-rage-for-those-at-the-pga-championship/44269425/ rangefinders all the rage for those at the pga championship 1\n"
          ],
          "name": "stdout"
        }
      ]
    },
    {
      "cell_type": "markdown",
      "metadata": {
        "id": "pBNJOlpQoMOs"
      },
      "source": [
        "### c) Tìm trên cả tập link"
      ]
    },
    {
      "cell_type": "code",
      "metadata": {
        "id": "_p1Wv4nsoY70"
      },
      "source": [
        "article_link = []\n",
        "headline = []\n",
        "for linkSiteMap in FullLink:\n",
        "  response = requests.get(linkSiteMap)\n",
        "  soup = BeautifulSoup(response.content, \"html.parser\")\n",
        "  # Check và thấy rằng mỗi paper đều nằm trong một thẻ dev và có chung class:\"item-details\"\n",
        "  papers = soup.findAll('li', class_='sitemap-list-item')\n",
        "  for paper in papers:\n",
        "    try:\n",
        "      link = paper.find('a').attrs[\"href\"]\n",
        "      title = paper.find('a').text.lower()\n",
        "      # Lọc lại thông tin thu được\n",
        "      if (\"/sitemap/\" in link) or (\"https://www.usatoday.com\" not in link):\n",
        "        continue\n",
        "      article_link.append(link)\n",
        "      headline.append(title)\n",
        "    except:\n",
        "      continue    "
      ],
      "execution_count": 128,
      "outputs": []
    },
    {
      "cell_type": "code",
      "metadata": {
        "colab": {
          "base_uri": "https://localhost:8080/",
          "height": 419
        },
        "id": "ZORRWm2FqgCN",
        "outputId": "a1e63a4e-5b74-4960-9078-d18730b0f3e7"
      },
      "source": [
        "import pandas as pd\n",
        "FullData0 = pd.DataFrame(columns= ['article_link', 'headline', 'is_sarcastic'])\n",
        "FullData0['article_link'] = article_link\n",
        "FullData0['headline'] = headline\n",
        "FullData0['is_sarcastic'] = 1\n",
        "FullData0"
      ],
      "execution_count": 131,
      "outputs": [
        {
          "output_type": "execute_result",
          "data": {
            "text/html": [
              "<div>\n",
              "<style scoped>\n",
              "    .dataframe tbody tr th:only-of-type {\n",
              "        vertical-align: middle;\n",
              "    }\n",
              "\n",
              "    .dataframe tbody tr th {\n",
              "        vertical-align: top;\n",
              "    }\n",
              "\n",
              "    .dataframe thead th {\n",
              "        text-align: right;\n",
              "    }\n",
              "</style>\n",
              "<table border=\"1\" class=\"dataframe\">\n",
              "  <thead>\n",
              "    <tr style=\"text-align: right;\">\n",
              "      <th></th>\n",
              "      <th>article_link</th>\n",
              "      <th>headline</th>\n",
              "      <th>is_sarcastic</th>\n",
              "    </tr>\n",
              "  </thead>\n",
              "  <tbody>\n",
              "    <tr>\n",
              "      <th>0</th>\n",
              "      <td>https://www.usatoday.com/story/sports/mlb/2018...</td>\n",
              "      <td>feeling concussion symptoms, mauer still not r...</td>\n",
              "      <td>1</td>\n",
              "    </tr>\n",
              "    <tr>\n",
              "      <th>1</th>\n",
              "      <td>https://www.usatoday.com/story/sports/ftw/2018...</td>\n",
              "      <td>ex-usmnt player blames foreign-born players</td>\n",
              "      <td>1</td>\n",
              "    </tr>\n",
              "    <tr>\n",
              "      <th>2</th>\n",
              "      <td>https://www.usatoday.com/videos/money/2018/05/...</td>\n",
              "      <td>a small business is booming with the sale of p...</td>\n",
              "      <td>1</td>\n",
              "    </tr>\n",
              "    <tr>\n",
              "      <th>3</th>\n",
              "      <td>https://www.usatoday.com/videos/sports/2018/05...</td>\n",
              "      <td>tiger-cats coach june jones: no scenario johnn...</td>\n",
              "      <td>1</td>\n",
              "    </tr>\n",
              "    <tr>\n",
              "      <th>4</th>\n",
              "      <td>https://www.usatoday.com/videos/news/nation/20...</td>\n",
              "      <td>police say youtube shooter scoped out campus p...</td>\n",
              "      <td>1</td>\n",
              "    </tr>\n",
              "    <tr>\n",
              "      <th>...</th>\n",
              "      <td>...</td>\n",
              "      <td>...</td>\n",
              "      <td>...</td>\n",
              "    </tr>\n",
              "    <tr>\n",
              "      <th>203873</th>\n",
              "      <td>https://www.usatoday.com/story/sports/tennis/2...</td>\n",
              "      <td>serena says dealing with media scrutiny made h...</td>\n",
              "      <td>1</td>\n",
              "    </tr>\n",
              "    <tr>\n",
              "      <th>203874</th>\n",
              "      <td>https://www.usatoday.com/story/sports/soccer/t...</td>\n",
              "      <td>copa america to be held in brazil after argent...</td>\n",
              "      <td>1</td>\n",
              "    </tr>\n",
              "    <tr>\n",
              "      <th>203875</th>\n",
              "      <td>https://www.usatoday.com/story/sports/nhl/2021...</td>\n",
              "      <td>ryan reaves suspended for scrum with ryan graves</td>\n",
              "      <td>1</td>\n",
              "    </tr>\n",
              "    <tr>\n",
              "      <th>203876</th>\n",
              "      <td>https://www.usatoday.com/story/sports/tennis/2...</td>\n",
              "      <td>tennis stars, others lend support to naomi osaka</td>\n",
              "      <td>1</td>\n",
              "    </tr>\n",
              "    <tr>\n",
              "      <th>203877</th>\n",
              "      <td>https://www.usatoday.com/story/sports/nhl/2021...</td>\n",
              "      <td>vegas' reaves suspended 2 games by nhl for hit...</td>\n",
              "      <td>1</td>\n",
              "    </tr>\n",
              "  </tbody>\n",
              "</table>\n",
              "<p>203878 rows × 3 columns</p>\n",
              "</div>"
            ],
            "text/plain": [
              "                                             article_link  ... is_sarcastic\n",
              "0       https://www.usatoday.com/story/sports/mlb/2018...  ...            1\n",
              "1       https://www.usatoday.com/story/sports/ftw/2018...  ...            1\n",
              "2       https://www.usatoday.com/videos/money/2018/05/...  ...            1\n",
              "3       https://www.usatoday.com/videos/sports/2018/05...  ...            1\n",
              "4       https://www.usatoday.com/videos/news/nation/20...  ...            1\n",
              "...                                                   ...  ...          ...\n",
              "203873  https://www.usatoday.com/story/sports/tennis/2...  ...            1\n",
              "203874  https://www.usatoday.com/story/sports/soccer/t...  ...            1\n",
              "203875  https://www.usatoday.com/story/sports/nhl/2021...  ...            1\n",
              "203876  https://www.usatoday.com/story/sports/tennis/2...  ...            1\n",
              "203877  https://www.usatoday.com/story/sports/nhl/2021...  ...            1\n",
              "\n",
              "[203878 rows x 3 columns]"
            ]
          },
          "metadata": {
            "tags": []
          },
          "execution_count": 131
        }
      ]
    },
    {
      "cell_type": "markdown",
      "metadata": {
        "id": "ZgeD8f5drnDW"
      },
      "source": [
        "### d) Save to .CSV"
      ]
    },
    {
      "cell_type": "code",
      "metadata": {
        "colab": {
          "base_uri": "https://localhost:8080/"
        },
        "id": "t1yIAqB8rnDY",
        "outputId": "aa844cdb-9752-4a41-87fe-837fd0ca8623"
      },
      "source": [
        "from google.colab import drive\n",
        "drive.mount('/content/drive')\n",
        "FullData0.to_csv(r'/content/drive/MyDrive/Colab Notebooks/DATA_ML/USAToday.csv', index = False, header=False)"
      ],
      "execution_count": 132,
      "outputs": [
        {
          "output_type": "stream",
          "text": [
            "Drive already mounted at /content/drive; to attempt to forcibly remount, call drive.mount(\"/content/drive\", force_remount=True).\n"
          ],
          "name": "stdout"
        }
      ]
    }
  ]
}