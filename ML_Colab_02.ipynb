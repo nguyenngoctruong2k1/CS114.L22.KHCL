{
  "nbformat": 4,
  "nbformat_minor": 0,
  "metadata": {
    "colab": {
      "name": "ML_Colab_02.ipynb",
      "provenance": [],
      "authorship_tag": "ABX9TyOi11aSLXvgRMhXD3ulKLHr",
      "include_colab_link": true
    },
    "kernelspec": {
      "name": "python3",
      "display_name": "Python 3"
    },
    "language_info": {
      "name": "python"
    }
  },
  "cells": [
    {
      "cell_type": "markdown",
      "metadata": {
        "id": "view-in-github",
        "colab_type": "text"
      },
      "source": [
        "<a href=\"https://colab.research.google.com/github/nguyenngoctruong2k1/CS114.L22.KHCL/blob/main/ML_Colab_02.ipynb\" target=\"_parent\"><img src=\"https://colab.research.google.com/assets/colab-badge.svg\" alt=\"Open In Colab\"/></a>"
      ]
    },
    {
      "cell_type": "markdown",
      "metadata": {
        "id": "9TInOyDkmib5"
      },
      "source": [
        "# Import dữ liệu"
      ]
    },
    {
      "cell_type": "code",
      "metadata": {
        "colab": {
          "base_uri": "https://localhost:8080/",
          "height": 407
        },
        "id": "W8nghxeymvJy",
        "outputId": "91b661bc-b42e-409e-a9b9-c5ae5fd1a806"
      },
      "source": [
        "import pandas as pd\n",
        "train = pd.read_csv(\"https://cs.uit.edu.vn/data2.txt\",header=None)\n",
        "test = pd.read_csv(\"https://cs.uit.edu.vn/data3.txt\",header=None)\n",
        "train"
      ],
      "execution_count": 1,
      "outputs": [
        {
          "output_type": "execute_result",
          "data": {
            "text/html": [
              "<div>\n",
              "<style scoped>\n",
              "    .dataframe tbody tr th:only-of-type {\n",
              "        vertical-align: middle;\n",
              "    }\n",
              "\n",
              "    .dataframe tbody tr th {\n",
              "        vertical-align: top;\n",
              "    }\n",
              "\n",
              "    .dataframe thead th {\n",
              "        text-align: right;\n",
              "    }\n",
              "</style>\n",
              "<table border=\"1\" class=\"dataframe\">\n",
              "  <thead>\n",
              "    <tr style=\"text-align: right;\">\n",
              "      <th></th>\n",
              "      <th>0</th>\n",
              "      <th>1</th>\n",
              "    </tr>\n",
              "  </thead>\n",
              "  <tbody>\n",
              "    <tr>\n",
              "      <th>0</th>\n",
              "      <td>6083695</td>\n",
              "      <td>0.521842</td>\n",
              "    </tr>\n",
              "    <tr>\n",
              "      <th>1</th>\n",
              "      <td>1954367</td>\n",
              "      <td>0.152648</td>\n",
              "    </tr>\n",
              "    <tr>\n",
              "      <th>2</th>\n",
              "      <td>3734185</td>\n",
              "      <td>0.298548</td>\n",
              "    </tr>\n",
              "    <tr>\n",
              "      <th>3</th>\n",
              "      <td>5839301</td>\n",
              "      <td>0.460480</td>\n",
              "    </tr>\n",
              "    <tr>\n",
              "      <th>4</th>\n",
              "      <td>6343427</td>\n",
              "      <td>0.527977</td>\n",
              "    </tr>\n",
              "    <tr>\n",
              "      <th>...</th>\n",
              "      <td>...</td>\n",
              "      <td>...</td>\n",
              "    </tr>\n",
              "    <tr>\n",
              "      <th>71110</th>\n",
              "      <td>4472112</td>\n",
              "      <td>0.350379</td>\n",
              "    </tr>\n",
              "    <tr>\n",
              "      <th>71111</th>\n",
              "      <td>5471895</td>\n",
              "      <td>0.429955</td>\n",
              "    </tr>\n",
              "    <tr>\n",
              "      <th>71112</th>\n",
              "      <td>9837364</td>\n",
              "      <td>0.801394</td>\n",
              "    </tr>\n",
              "    <tr>\n",
              "      <th>71113</th>\n",
              "      <td>9466593</td>\n",
              "      <td>0.776407</td>\n",
              "    </tr>\n",
              "    <tr>\n",
              "      <th>71114</th>\n",
              "      <td>4080801</td>\n",
              "      <td>0.314468</td>\n",
              "    </tr>\n",
              "  </tbody>\n",
              "</table>\n",
              "<p>71115 rows × 2 columns</p>\n",
              "</div>"
            ],
            "text/plain": [
              "             0         1\n",
              "0      6083695  0.521842\n",
              "1      1954367  0.152648\n",
              "2      3734185  0.298548\n",
              "3      5839301  0.460480\n",
              "4      6343427  0.527977\n",
              "...        ...       ...\n",
              "71110  4472112  0.350379\n",
              "71111  5471895  0.429955\n",
              "71112  9837364  0.801394\n",
              "71113  9466593  0.776407\n",
              "71114  4080801  0.314468\n",
              "\n",
              "[71115 rows x 2 columns]"
            ]
          },
          "metadata": {
            "tags": []
          },
          "execution_count": 1
        }
      ]
    },
    {
      "cell_type": "code",
      "metadata": {
        "colab": {
          "base_uri": "https://localhost:8080/"
        },
        "id": "fz41_yk1r0lV",
        "outputId": "845b60da-a424-48a4-d550-5a76fa3e13b4"
      },
      "source": [
        "train[1]"
      ],
      "execution_count": 2,
      "outputs": [
        {
          "output_type": "execute_result",
          "data": {
            "text/plain": [
              "0        0.521842\n",
              "1        0.152648\n",
              "2        0.298548\n",
              "3        0.460480\n",
              "4        0.527977\n",
              "           ...   \n",
              "71110    0.350379\n",
              "71111    0.429955\n",
              "71112    0.801394\n",
              "71113    0.776407\n",
              "71114    0.314468\n",
              "Name: 1, Length: 71115, dtype: float64"
            ]
          },
          "metadata": {
            "tags": []
          },
          "execution_count": 2
        }
      ]
    },
    {
      "cell_type": "code",
      "metadata": {
        "colab": {
          "base_uri": "https://localhost:8080/"
        },
        "id": "1HN1_TzSm2Ip",
        "outputId": "8cde4952-6f72-4e6c-ba98-ca83bee35451"
      },
      "source": [
        "import numpy as np\n",
        "\n",
        "X_train = np.array(train[0])\n",
        "y_train = np.array(train[1])\n",
        "X_test = np.array(test[0])\n",
        "y_test = np.array(test[1])\n",
        "X_train"
      ],
      "execution_count": 3,
      "outputs": [
        {
          "output_type": "execute_result",
          "data": {
            "text/plain": [
              "array([6083695, 1954367, 3734185, ..., 9837364, 9466593, 4080801])"
            ]
          },
          "metadata": {
            "tags": []
          },
          "execution_count": 3
        }
      ]
    },
    {
      "cell_type": "code",
      "metadata": {
        "id": "vYHzBGNlmIKI"
      },
      "source": [
        "import numpy as np\n",
        "import sklearn\n",
        "from sklearn.linear_model import LinearRegression"
      ],
      "execution_count": 5,
      "outputs": []
    },
    {
      "cell_type": "code",
      "metadata": {
        "id": "tQQjZRCT54sQ"
      },
      "source": [
        "def increaseDimension(X_):\n",
        "  X = X_\n",
        "  X = np.hstack((X, np.log2(X_)))\n",
        "  X = np.hstack((X, X_*np.log2(X_)))\n",
        "  X = np.hstack((X, X_*X_))\n",
        "  return X"
      ],
      "execution_count": 7,
      "outputs": []
    },
    {
      "cell_type": "code",
      "metadata": {
        "colab": {
          "base_uri": "https://localhost:8080/"
        },
        "id": "chx7dsaY7plF",
        "outputId": "1beb197a-9dcd-4425-e0dd-13fbe04699ac"
      },
      "source": [
        "X_train = increaseDimension(X_train)\n",
        "X_test = increaseDimension(X_test)\n",
        "X_train"
      ],
      "execution_count": 8,
      "outputs": [
        {
          "output_type": "execute_result",
          "data": {
            "text/plain": [
              "array([6.08369500e+06, 1.95436700e+06, 3.73418500e+06, ...,\n",
              "       9.67737305e+13, 8.96163830e+13, 1.66529368e+13])"
            ]
          },
          "metadata": {
            "tags": []
          },
          "execution_count": 8
        }
      ]
    },
    {
      "cell_type": "markdown",
      "metadata": {
        "id": "xVolOAJE5iok"
      },
      "source": [
        "# y = a*x + b* x^2 + c * lg(x) + d *x *lg(x) + e"
      ]
    },
    {
      "cell_type": "code",
      "metadata": {
        "id": "Fz1CdCyw6q8j"
      },
      "source": [
        "import math"
      ],
      "execution_count": null,
      "outputs": []
    },
    {
      "cell_type": "code",
      "metadata": {
        "colab": {
          "base_uri": "https://localhost:8080/"
        },
        "id": "q5t3yfn4qgNc",
        "outputId": "b50cccae-1e7e-40bf-8601-bdafc3651cb2"
      },
      "source": [
        "X_train = np.reshape(X_train,(-1,4))\n",
        "X_test = np.reshape(X_test,(-1,4))\n",
        "X_train"
      ],
      "execution_count": 11,
      "outputs": [
        {
          "output_type": "execute_result",
          "data": {
            "text/plain": [
              "array([[6.08369500e+06, 1.95436700e+06, 3.73418500e+06, 5.83930100e+06],\n",
              "       [6.34342700e+06, 1.35557400e+06, 7.25488000e+05, 1.19188700e+06],\n",
              "       [4.55629200e+06, 9.98959600e+06, 7.69804000e+06, 1.69081600e+06],\n",
              "       ...,\n",
              "       [2.50807852e+13, 5.24152977e+13, 3.44011576e+13, 7.65941783e+13],\n",
              "       [6.61523544e+10, 4.80423375e+13, 2.75331078e+13, 1.99997857e+13],\n",
              "       [2.99416349e+13, 9.67737305e+13, 8.96163830e+13, 1.66529368e+13]])"
            ]
          },
          "metadata": {
            "tags": []
          },
          "execution_count": 11
        }
      ]
    },
    {
      "cell_type": "code",
      "metadata": {
        "colab": {
          "base_uri": "https://localhost:8080/"
        },
        "id": "vdHCAWJ0x-Dh",
        "outputId": "d2ef78a0-ce17-48b1-8576-d7b9a85d74a5"
      },
      "source": [
        "X_train.shape"
      ],
      "execution_count": 12,
      "outputs": [
        {
          "output_type": "execute_result",
          "data": {
            "text/plain": [
              "(71115, 4)"
            ]
          },
          "metadata": {
            "tags": []
          },
          "execution_count": 12
        }
      ]
    },
    {
      "cell_type": "code",
      "metadata": {
        "colab": {
          "base_uri": "https://localhost:8080/"
        },
        "id": "LI_FC6D5-Giq",
        "outputId": "f74d201a-db32-459c-c543-072439e8d6c9"
      },
      "source": [
        "y_train"
      ],
      "execution_count": 13,
      "outputs": [
        {
          "output_type": "execute_result",
          "data": {
            "text/plain": [
              "array([0.521842, 0.152648, 0.298548, ..., 0.801394, 0.776407, 0.314468])"
            ]
          },
          "metadata": {
            "tags": []
          },
          "execution_count": 13
        }
      ]
    },
    {
      "cell_type": "markdown",
      "metadata": {
        "id": "HOmlUI6ppR4_"
      },
      "source": [
        "# dựng mode"
      ]
    },
    {
      "cell_type": "code",
      "metadata": {
        "id": "1GV6paWvpWzV"
      },
      "source": [
        "from sklearn.linear_model import LinearRegression\n",
        "mode = LinearRegression()"
      ],
      "execution_count": 14,
      "outputs": []
    },
    {
      "cell_type": "code",
      "metadata": {
        "colab": {
          "base_uri": "https://localhost:8080/"
        },
        "id": "g3FEe-FottQj",
        "outputId": "9c3449dd-9524-448a-b0d1-e6ac8a1f9e08"
      },
      "source": [
        "mode.fit(X_train,y_train)"
      ],
      "execution_count": 15,
      "outputs": [
        {
          "output_type": "execute_result",
          "data": {
            "text/plain": [
              "LinearRegression(copy_X=True, fit_intercept=True, n_jobs=None, normalize=False)"
            ]
          },
          "metadata": {
            "tags": []
          },
          "execution_count": 15
        }
      ]
    },
    {
      "cell_type": "code",
      "metadata": {
        "id": "Uu2mp3LL-Qbx"
      },
      "source": [
        "X_train"
      ],
      "execution_count": null,
      "outputs": []
    },
    {
      "cell_type": "code",
      "metadata": {
        "id": "ANcsO2m8uQVI"
      },
      "source": [
        "y_predit = mode.predict(X_test)"
      ],
      "execution_count": 16,
      "outputs": []
    },
    {
      "cell_type": "code",
      "metadata": {
        "colab": {
          "base_uri": "https://localhost:8080/"
        },
        "id": "J2MEcjAjuaSB",
        "outputId": "d0578c74-418d-40f0-e3aa-4700edbd57ac"
      },
      "source": [
        "y_predit"
      ],
      "execution_count": 17,
      "outputs": [
        {
          "output_type": "execute_result",
          "data": {
            "text/plain": [
              "array([0.40667401, 0.40667401, 0.40667401, ..., 0.37686147, 0.44220664,\n",
              "       0.4592006 ])"
            ]
          },
          "metadata": {
            "tags": []
          },
          "execution_count": 17
        }
      ]
    },
    {
      "cell_type": "code",
      "metadata": {
        "colab": {
          "base_uri": "https://localhost:8080/"
        },
        "id": "gt-skPdYuej3",
        "outputId": "fae4bd0f-7c10-448d-c7e3-d7386ddb9386"
      },
      "source": [
        "y_test"
      ],
      "execution_count": 18,
      "outputs": [
        {
          "output_type": "execute_result",
          "data": {
            "text/plain": [
              "array([4.12166, 3.92089, 3.2154 , ..., 2.90918, 1.80292, 1.82795])"
            ]
          },
          "metadata": {
            "tags": []
          },
          "execution_count": 18
        }
      ]
    },
    {
      "cell_type": "code",
      "metadata": {
        "colab": {
          "base_uri": "https://localhost:8080/"
        },
        "id": "JAtCWGQD2CEw",
        "outputId": "4fb06b53-6ee1-491c-b1ef-e0a419912a9c"
      },
      "source": [
        "np.average(y_test)"
      ],
      "execution_count": 19,
      "outputs": [
        {
          "output_type": "execute_result",
          "data": {
            "text/plain": [
              "2.642811968838527"
            ]
          },
          "metadata": {
            "tags": []
          },
          "execution_count": 19
        }
      ]
    },
    {
      "cell_type": "code",
      "metadata": {
        "colab": {
          "base_uri": "https://localhost:8080/"
        },
        "id": "GGcQMlMj0I5U",
        "outputId": "5b2cb2e3-796f-4de7-84a5-443087b4f0c8"
      },
      "source": [
        "np.average((y_predit - y_test)**2)"
      ],
      "execution_count": 20,
      "outputs": [
        {
          "output_type": "execute_result",
          "data": {
            "text/plain": [
              "5.277590215023011"
            ]
          },
          "metadata": {
            "tags": []
          },
          "execution_count": 20
        }
      ]
    }
  ]
}